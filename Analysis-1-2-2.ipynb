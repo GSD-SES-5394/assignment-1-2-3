{
 "cells": [
  {
   "cell_type": "markdown",
   "metadata": {},
   "source": [
    "# Analysis Assignment 1.2.2\n",
    "## Estimating trip generation\n",
    "\n",
    "This is an example you can follow to complete Assignment 1.2.2 \n",
    "\n",
    "In the example below, I estimate zone-level trip generation for the Buffalo-Cheektowaga-Niagra Falls Metropolitan Statistical Area in 4 steps (or 10 steps, depending on how you want to count):\n",
    "0. Load required libraries\n",
    "1. Estimate trip productions    \n",
    "   1.1 Load zonal household data  \n",
    "   1.2 Visualize zonal household data     \n",
    "   1.3 Load coefficient estimates from assignment 1.2.1    \n",
    "   1.4 Estimate zonal productions\n",
    "2. Estimate trip attractions  \n",
    "   3.1 Load zonal employment data  \n",
    "   3.2 Visualize zonal employment data  \n",
    "   3.3 Estimate zonal attractions\n",
    "3. Balance productions and attractions\n",
    "4. Visualize final result\n",
    "\n",
    "### Step 0: Load required libraries\n",
    "You'll need these seven libraries to run this script."
   ]
  },
  {
   "cell_type": "code",
   "execution_count": 1,
   "metadata": {},
   "outputs": [
    {
     "name": "stderr",
     "output_type": "stream",
     "text": [
      "\n",
      "Attaching package: 'geojsonio'\n",
      "\n",
      "\n",
      "The following object is masked from 'package:base':\n",
      "\n",
      "    pretty\n",
      "\n",
      "\n",
      "Linking to GEOS 3.8.0, GDAL 3.0.4, PROJ 6.3.1\n",
      "\n",
      "-- \u001b[1mAttaching packages\u001b[22m --------------------------------------- tidyverse 1.3.0 --\n",
      "\n",
      "\u001b[32mv\u001b[39m \u001b[34mggplot2\u001b[39m 3.3.0     \u001b[32mv\u001b[39m \u001b[34mpurrr  \u001b[39m 0.3.4\n",
      "\u001b[32mv\u001b[39m \u001b[34mtibble \u001b[39m 3.0.1     \u001b[32mv\u001b[39m \u001b[34mdplyr  \u001b[39m 0.8.5\n",
      "\u001b[32mv\u001b[39m \u001b[34mtidyr  \u001b[39m 1.0.3     \u001b[32mv\u001b[39m \u001b[34mstringr\u001b[39m 1.4.0\n",
      "\u001b[32mv\u001b[39m \u001b[34mreadr  \u001b[39m 1.3.1     \u001b[32mv\u001b[39m \u001b[34mforcats\u001b[39m 0.5.0\n",
      "\n",
      "-- \u001b[1mConflicts\u001b[22m ------------------------------------------ tidyverse_conflicts() --\n",
      "\u001b[31mx\u001b[39m \u001b[34mdplyr\u001b[39m::\u001b[32mfilter()\u001b[39m masks \u001b[34mstats\u001b[39m::filter()\n",
      "\u001b[31mx\u001b[39m \u001b[34mdplyr\u001b[39m::\u001b[32mlag()\u001b[39m    masks \u001b[34mstats\u001b[39m::lag()\n",
      "\n"
     ]
    }
   ],
   "source": [
    "library(geojsonio)\n",
    "library(ggthemes)\n",
    "library(lehdr)\n",
    "library(sf)\n",
    "library(stats)\n",
    "library(tidycensus)\n",
    "library(tidyverse)"
   ]
  },
  {
   "cell_type": "markdown",
   "metadata": {},
   "source": [
    "### Step 1: Estimate trip productions\n",
    "We'll use the model we developed in the previous assignment (Assignment 1.2.1)\n",
    "\n",
    "We can apply that model to estimate the number of daily trips produced by each zone. We'll do this in 4 steps:\n",
    "1. Load zonal household data\n",
    "2. Visualize zonal household data\n",
    "3. Load coefficient estimates from Assignment 1.2.1\n",
    "4. Estimate zonal productions\n",
    "\n",
    "#### Step 1.1 Load zonal household data\n",
    "In assignment 1.2.1, we estimated a model that predicts the number of daily trips per household based on household size, number of vehicles per household, income, race/ethnicity, and residential density.\n",
    "\n",
    "To use that model to predict trip productions for each zone, we need to get average zonal values for each of those variables. We'll use census tracts for our zones, so we can use census data for our analysis.\n",
    "\n",
    "We can get the data we need from the Census API using the tidycensus package. \n",
    "\n",
    "Before you use tidycensus the first time, you'll need to get an API key from http://api.census.gov/data/key_signup.html. Once you have a key, paste it into a text editor and save the file containing your API key in your working directory (your repo) as \"census_key.txt\" I've already added this file name to the repo .gitignore file, so the file won't get copied to github when you submit your pull request.\n",
    "\n",
    "The Buffalo MSA comprises two counties: Erie and Niagara."
   ]
  },
  {
   "cell_type": "code",
   "execution_count": 2,
   "metadata": {},
   "outputs": [
    {
     "name": "stderr",
     "output_type": "stream",
     "text": [
      "To install your API key for use in future sessions, run this function with `install = TRUE`.\n",
      "\n"
     ]
    }
   ],
   "source": [
    "key <- read_file(\"census_key.txt\")\n",
    "census_api_key(key)"
   ]
  },
  {
   "cell_type": "markdown",
   "metadata": {},
   "source": [
    "Next, you'll need to make a list of all the variables you want to grab. The hardest part of this is figuring out the names of the census variables. Kyle Walker (author of the tidycensus package) has a recommendation for how to search for variables if you're working in RStudio. See https://walker-data.com/tidycensus/articles/basic-usage.html. I've also compiled a list of useful, relevant variables [here](https://github.com/GSD-SES-5394/assignment-1-2-2/blob/master/census-variables.md).\n",
    "\n",
    "You'll need to get variables corresponding to all of the predictors in the model you estimatated in Assignment 1.2.1 (or you'll need whatever variables you need to calculate those predictors), and you'll also need the total number of households."
   ]
  },
  {
   "cell_type": "code",
   "execution_count": 3,
   "metadata": {},
   "outputs": [],
   "source": [
    "\n",
    "vars = c(num_HH = \"B08201_001\",\n",
    "        HHSIZ = \"B25010_001\", # not a typo; the E gets added later.\n",
    "        HH_1VEH = \"B08201_003\",\n",
    "        HH_2VEH = \"B08201_004\",\n",
    "        HH_3VEH = \"B08201_005\",\n",
    "        HH_4VEH = \"B08201_006\",\n",
    "        HHFAMINC = \"B06011_001\",\n",
    "        num_HUs = \"B25001_001\",\n",
    "        tot_pop = \"B01003_001\",\n",
    "        white_pop = \"B03002_003\",\n",
    "        black_pop = \"B03002_004\",\n",
    "        hisp_pop = \"B03002_012\",\n",
    "        asian_pop = \"B03002_006\")"
   ]
  },
  {
   "cell_type": "markdown",
   "metadata": {},
   "source": [
    "Now you'll use the `get_acs()` function from tidycensus get the values of those variables for each tract in your study area. The Buffalo MSA includes two counties: Erie and Niagara."
   ]
  },
  {
   "cell_type": "code",
   "execution_count": 4,
   "metadata": {},
   "outputs": [
    {
     "name": "stderr",
     "output_type": "stream",
     "text": [
      "Getting data from the 2014-2018 5-year ACS\n",
      "\n",
      "Downloading feature geometry from the Census website.  To cache shapefiles for use in future sessions, set `options(tigris_use_cache = TRUE)`.\n",
      "\n"
     ]
    },
    {
     "name": "stdout",
     "output_type": "stream",
     "text": [
      "  |======================================================================| 100%\n"
     ]
    },
    {
     "data": {
      "application/geo+json": {
       "features": [
        {
         "geometry": {
          "coordinates": [
           [
            [
             [
              -197779.5864,
              452961.6146
             ],
             [
              -197532.9137,
              453005.3948
             ],
             [
              -196927.8488,
              452959.6974
             ],
             [
              -196834.5785,
              452938.174
             ],
             [
              -196515.0547,
              452786.4024
             ],
             [
              -196306.3269,
              452664.5063
             ],
             [
              -195864.0108,
              452538.1075
             ],
             [
              -195715.3131,
              452554.1337
             ],
             [
              -194890.3797,
              452802.1986
             ],
             [
              -194359.8682,
              452934.2207
             ],
             [
              -194309.05,
              453390.8952
             ],
             [
              -194296.4449,
              453506.7674
             ],
             [
              -193105.0489,
              453275.917
             ],
             [
              -193130.948,
              452788.0384
             ],
             [
              -193225.9044,
              450713.4692
             ],
             [
              -193256.0947,
              450247.8587
             ],
             [
              -194063.8703,
              450294.5381
             ],
             [
              -194318.9512,
              450308.296
             ],
             [
              -194560.2899,
              450321.3755
             ],
             [
              -195300.6008,
              450361.1482
             ],
             [
              -196081.7955,
              451406.1654
             ],
             [
              -196331.077,
              451418.8195
             ],
             [
              -196602.1399,
              451433.6937
             ],
             [
              -197773.6133,
              451498.5967
             ],
             [
              -197787.2015,
              452076.4833
             ],
             [
              -197784.0409,
              452607.6331
             ],
             [
              -197779.5864,
              452961.6146
             ]
            ]
           ]
          ],
          "type": "MultiPolygon"
         },
         "properties": {
          "GEOID": "36029017300",
          "HBRESDN": 8638.4119,
          "HHSIZE": 2.37,
          "HHVEHCNT": 1.7742,
          "income_k": 42.048,
          "num_HH": 2932,
          "pct_asian": 0.0036,
          "pct_black": 0.0034,
          "pct_hisp": 0.0059,
          "pct_other": 0.0042,
          "pct_white": 0.9829
         },
         "type": "Feature"
        },
        {
         "geometry": {
          "coordinates": [
           [
            [
             [
              -207485.7243,
              452645.178
             ],
             [
              -207412.5982,
              452870.7677
             ],
             [
              -207335.0696,
              453109.9517
             ],
             [
              -207321.7757,
              453150.966
             ],
             [
              -207268.4053,
              453315.6287
             ],
             [
              -207217.1881,
              453473.6539
             ],
             [
              -206973.0917,
              453512.3674
             ],
             [
              -206805.1872,
              453288.7262
             ],
             [
              -206661.5536,
              453280.4957
             ],
             [
              -205965.3837,
              453242.0867
             ],
             [
              -205899.0894,
              453238.21
             ],
             [
              -205215.7334,
              453199.4263
             ],
             [
              -204887.0065,
              453155.4966
             ],
             [
              -204644.6484,
              453141.1007
             ],
             [
              -204567.5144,
              453126.4294
             ],
             [
              -204410.6359,
              452482.5974
             ],
             [
              -204722.0301,
              452543.6531
             ],
             [
              -204688.2125,
              452240.5779
             ],
             [
              -204763.8745,
              451014.7584
             ],
             [
              -204728.9057,
              450682.7734
             ],
             [
              -204740.4161,
              450543.7855
             ],
             [
              -204845.7905,
              450233.9618
             ],
             [
              -205019.5895,
              450156.2557
             ],
             [
              -205155.8847,
              450160.0557
             ],
             [
              -205498.5964,
              450201.251
             ],
             [
              -205684.206,
              450209.5023
             ],
             [
              -206805.2953,
              450291.8524
             ],
             [
              -207256.4947,
              451494.6238
             ],
             [
              -207495.5697,
              452255.3335
             ],
             [
              -207485.7243,
              452645.178
             ]
            ]
           ]
          ],
          "type": "MultiPolygon"
         },
         "properties": {
          "GEOID": "36029017400",
          "HBRESDN": 5408.0001,
          "HHSIZE": 3.13,
          "HHVEHCNT": 1.149,
          "income_k": 19.423,
          "num_HH": 1396,
          "pct_asian": 0.0181,
          "pct_black": 0.2573,
          "pct_hisp": 0.1369,
          "pct_other": 0.116,
          "pct_white": 0.4717
         },
         "type": "Feature"
        },
        {
         "geometry": {
          "coordinates": [
           [
            [
             [
              -215285.5473,
              416722.7215
             ],
             [
              -214067.1207,
              416694.2806
             ],
             [
              -214050.0539,
              416279.9629
             ],
             [
              -212845.7382,
              416199.7883
             ],
             [
              -212915.6841,
              414924.754
             ],
             [
              -213062.7678,
              414717.9734
             ],
             [
              -213337.5671,
              414655.4425
             ],
             [
              -213264.2849,
              414457.4422
             ],
             [
              -212969.6499,
              414098.3976
             ],
             [
              -213025.2972,
              412921.6576
             ],
             [
              -213521.4173,
              412686.0695
             ],
             [
              -213736.8866,
              412774.0746
             ],
             [
              -213888.3808,
              412670.3604
             ],
             [
              -214112.1663,
              412911.6586
             ],
             [
              -214257.3089,
              412910.5579
             ],
             [
              -214292.0481,
              412172.0915
             ],
             [
              -214366.1448,
              412214.2894
             ],
             [
              -214766.0274,
              412633.9347
             ],
             [
              -215019.2341,
              413108.1962
             ],
             [
              -215212.5281,
              413186.0642
             ],
             [
              -215464.8703,
              413194.8446
             ],
             [
              -215462.5865,
              413213.2183
             ],
             [
              -215425.2273,
              413764.8388
             ],
             [
              -215427.5445,
              414008.2733
             ],
             [
              -215390.3188,
              414671.9768
             ],
             [
              -215386.5323,
              414723.6938
             ],
             [
              -215025.4899,
              414698.9598
             ],
             [
              -214864.5918,
              414176.8313
             ],
             [
              -214179.7769,
              414085.4987
             ],
             [
              -214176.8155,
              414135.8102
             ],
             [
              -213881.6117,
              414214.1784
             ],
             [
              -213279.598,
              414731.2907
             ],
             [
              -213162.7586,
              414984.0952
             ],
             [
              -213288.424,
              414979.2895
             ],
             [
              -213447.203,
              415316.2192
             ],
             [
              -213627.1383,
              415560.3461
             ],
             [
              -213812.4504,
              415561.0072
             ],
             [
              -213804.0959,
              415766.5574
             ],
             [
              -214008.4135,
              415788.3822
             ],
             [
              -214038.5858,
              415966.5374
             ],
             [
              -214213.8714,
              415982.1712
             ],
             [
              -214213.5275,
              416191.9295
             ],
             [
              -214321.2229,
              415989.9075
             ],
             [
              -215117.8644,
              416037.7895
             ],
             [
              -215312.5944,
              415990.8579
             ],
             [
              -215285.5473,
              416722.7215
             ]
            ]
           ]
          ],
          "type": "MultiPolygon"
         },
         "properties": {
          "GEOID": "36029017501",
          "HBRESDN": 3441.767,
          "HHSIZE": 2.09,
          "HHVEHCNT": 1.3121,
          "income_k": 28.829,
          "num_HH": 660,
          "pct_asian": 0.0197,
          "pct_black": 0.0035,
          "pct_hisp": 0.0211,
          "pct_other": 0.0789,
          "pct_white": 0.8767
         },
         "type": "Feature"
        },
        {
         "geometry": {
          "coordinates": [
           [
            [
             [
              -215157.6641,
              419107.5947
             ],
             [
              -215099.9299,
              420184.6624
             ],
             [
              -214021.2153,
              420127.5173
             ],
             [
              -214014.4342,
              420280.5683
             ],
             [
              -213417.8975,
              420250.6828
             ],
             [
              -212796.0708,
              420219.1941
             ],
             [
              -212149.631,
              420188.9294
             ],
             [
              -211907.9904,
              420177.5664
             ],
             [
              -210947.7305,
              420096.5436
             ],
             [
              -210850.5915,
              420114.0018
             ],
             [
              -210390.1594,
              420079.7488
             ],
             [
              -209709.1251,
              420033.6591
             ],
             [
              -209244.5208,
              420002.0516
             ],
             [
              -208335.6524,
              419963.0383
             ],
             [
              -207877.3922,
              419918.7052
             ],
             [
              -206902.3247,
              419879.1448
             ],
             [
              -206637.2298,
              419869.1006
             ],
             [
              -205475.395,
              419825.0601
             ],
             [
              -205437.1425,
              419835.2453
             ],
             [
              -205296.4656,
              419939.3309
             ],
             [
              -201904.5703,
              419761.1816
             ],
             [
              -201906.9949,
              419713.2978
             ],
             [
              -201970.6999,
              418477.8197
             ],
             [
              -201644.5,
              418455.1877
             ],
             [
              -201846.0093,
              412664.8855
             ],
             [
              -201911.3065,
              411778.6851
             ],
             [
              -201822.3597,
              411774.6385
             ],
             [
              -201763.418,
              411663.0651
             ],
             [
              -201398.9506,
              411604.6883
             ],
             [
              -201241.5865,
              411487.0435
             ],
             [
              -201280.9476,
              411257.5781
             ],
             [
              -201541.2733,
              411168.6807
             ],
             [
              -201839.2503,
              411137.941
             ],
             [
              -202125.1701,
              411040.666
             ],
             [
              -202318.2071,
              411111.7943
             ],
             [
              -202604.8183,
              411330.3445
             ],
             [
              -202626.4534,
              411483.032
             ],
             [
              -202992.8295,
              411722.0118
             ],
             [
              -203218.9965,
              411931.4041
             ],
             [
              -203424.0714,
              411941.8041
             ],
             [
              -203621.4335,
              411886.4356
             ],
             [
              -203881.0641,
              411723.963
             ],
             [
              -204018.8434,
              411563.9948
             ],
             [
              -204171.6904,
              411516.6261
             ],
             [
              -204478.1728,
              411573.5354
             ],
             [
              -204760.2819,
              411286.1452
             ],
             [
              -205521.6985,
              410719.8883
             ],
             [
              -205851.4553,
              410870.9404
             ],
             [
              -205926.6343,
              410828.3301
             ],
             [
              -206011.7283,
              410468.8793
             ],
             [
              -206167.9534,
              410525.7603
             ],
             [
              -206375.3801,
              410563.7644
             ],
             [
              -206674.7034,
              410285.7844
             ],
             [
              -206767.0246,
              410000.3369
             ],
             [
              -206907.4181,
              409908.9424
             ],
             [
              -207087.123,
              409905.4461
             ],
             [
              -207352.8219,
              410155.767
             ],
             [
              -207599.5842,
              410166.9728
             ],
             [
              -207804.0545,
              409983.0853
             ],
             [
              -207948.4378,
              409952.5123
             ],
             [
              -208224.561,
              410054.0272
             ],
             [
              -208387.9668,
              410037.0281
             ],
             [
              -208589.3435,
              409913.8226
             ],
             [
              -209055.8453,
              409891.1586
             ],
             [
              -209253.7747,
              409971.3111
             ],
             [
              -209376.8387,
              409944.7923
             ],
             [
              -209506.2627,
              409724.5531
             ],
             [
              -209683.4386,
              409687.2393
             ],
             [
              -209987.9443,
              409895.7814
             ],
             [
              -210173.0995,
              409956.3639
             ],
             [
              -210314.9009,
              409838.8155
             ],
             [
              -210458.4427,
              409805.7984
             ],
             [
              -210627.2865,
              409596.3028
             ],
             [
              -210783.5022,
              409629.4487
             ],
             [
              -210946.7544,
              410038.2616
             ],
             [
              -211066.23,
              410054.1401
             ],
             [
              -211143.1289,
              410015.9034
             ],
             [
              -211378.9058,
              409744.3891
             ],
             [
              -211508.5396,
              409734.7338
             ],
             [
              -211683.3098,
              409931.8396
             ],
             [
              -211796.4847,
              410267.8995
             ],
             [
              -211861.2248,
              410746.8247
             ],
             [
              -212002.0569,
              410873.8927
             ],
             [
              -212434.6966,
              410573.9836
             ],
             [
              -212558.035,
              410602.6781
             ],
             [
              -212936.9727,
              410788.2757
             ],
             [
              -213044.4903,
              410721.464
             ],
             [
              -213082.9337,
              410571.0687
             ],
             [
              -213225.1913,
              410387.0915
             ],
             [
              -213512.5253,
              410220.2605
             ],
             [
              -213684.9197,
              410230.8118
             ],
             [
              -213802.3559,
              410442.2553
             ],
             [
              -213713.2911,
              410884.1108
             ],
             [
              -213482.1475,
              410981.5613
             ],
             [
              -213466.0002,
              411405.052
             ],
             [
              -214023.1588,
              412040.5056
             ],
             [
              -214292.0481,
              412172.0915
             ],
             [
              -214257.3089,
              412910.5579
             ],
             [
              -214112.1663,
              412911.6586
             ],
             [
              -213888.3808,
              412670.3604
             ],
             [
              -213736.8866,
              412774.0746
             ],
             [
              -213521.4173,
              412686.0695
             ],
             [
              -213025.2972,
              412921.6576
             ],
             [
              -212969.6499,
              414098.3976
             ],
             [
              -213264.2849,
              414457.4422
             ],
             [
              -213337.5671,
              414655.4425
             ],
             [
              -213062.7678,
              414717.9734
             ],
             [
              -212915.6841,
              414924.754
             ],
             [
              -212845.7382,
              416199.7883
             ],
             [
              -214050.0539,
              416279.9629
             ],
             [
              -214067.1207,
              416694.2806
             ],
             [
              -215285.5473,
              416722.7215
             ],
             [
              -215157.6641,
              419107.5947
             ]
            ]
           ]
          ],
          "type": "MultiPolygon"
         },
         "properties": {
          "GEOID": "36029017502",
          "HBRESDN": 256.5629,
          "HHSIZE": 2.43,
          "HHVEHCNT": 1.9789,
          "income_k": 28.63,
          "num_HH": 950,
          "pct_asian": 0,
          "pct_black": 0.0039,
          "pct_hisp": 0.0103,
          "pct_other": 0.0107,
          "pct_white": 0.9751
         },
         "type": "Feature"
        },
        {
         "geometry": {
          "coordinates": [
           [
            [
             [
              -207344.0556,
              455526.5007
             ],
             [
              -206765.7983,
              455710.9067
             ],
             [
              -206874.0266,
              455858.565
             ],
             [
              -206714.7597,
              455833.5849
             ],
             [
              -206486.5455,
              455696.7486
             ],
             [
              -206087.4078,
              455640.9629
             ],
             [
              -205821.0795,
              455723.8636
             ],
             [
              -205568.5823,
              455972.0279
             ],
             [
              -205345.9776,
              456335.0395
             ],
             [
              -205220.4605,
              456556.2503
             ],
             [
              -205051.9111,
              456425.7774
             ],
             [
              -204851.8039,
              456579.3072
             ],
             [
              -204739.1925,
              456641.4449
             ],
             [
              -204488.2265,
              456542.1561
             ],
             [
              -204112.7748,
              456296.5438
             ],
             [
              -204280.6329,
              456137.209
             ],
             [
              -203957.8904,
              455973.5302
             ],
             [
              -204073.1067,
              455665.2133
             ],
             [
              -204102.5919,
              455199.5307
             ],
             [
              -204112.8262,
              455034.2983
             ],
             [
              -204126.4907,
              454792.9354
             ],
             [
              -204139.4115,
              454572.3655
             ],
             [
              -203436.3908,
              454528.3861
             ],
             [
              -203439.218,
              454478.1804
             ],
             [
              -203469.8234,
              453984.9319
             ],
             [
              -203472.2945,
              453940.0549
             ],
             [
              -203488.1591,
              453669.7323
             ],
             [
              -203504.6735,
              453401.114
             ],
             [
              -203525.0138,
              453093.147
             ],
             [
              -203531.1665,
              453010.139
             ],
             [
              -203534.7222,
              452948.9426
             ],
             [
              -203561.7773,
              452519.8992
             ],
             [
              -203827.1735,
              452533.1002
             ],
             [
              -203878.8482,
              452537.5408
             ],
             [
              -204289.2714,
              452544.8547
             ],
             [
              -204410.6359,
              452482.5974
             ],
             [
              -204567.5144,
              453126.4294
             ],
             [
              -204644.6484,
              453141.1007
             ],
             [
              -204887.0065,
              453155.4966
             ],
             [
              -205215.7334,
              453199.4263
             ],
             [
              -205899.0894,
              453238.21
             ],
             [
              -205965.3837,
              453242.0867
             ],
             [
              -206661.5536,
              453280.4957
             ],
             [
              -206626.2735,
              453383.7179
             ],
             [
              -206638.002,
              453565.5271
             ],
             [
              -206494.8984,
              453588.2348
             ],
             [
              -206515.8462,
              453911.6056
             ],
             [
              -206378.0474,
              454278.2136
             ],
             [
              -206816.2797,
              455526.3713
             ],
             [
              -207344.0556,
              455526.5007
             ]
            ]
           ]
          ],
          "type": "MultiPolygon"
         },
         "properties": {
          "GEOID": "36029000110",
          "HBRESDN": 3770.6634,
          "HHSIZE": 2.73,
          "HHVEHCNT": 1.2553,
          "income_k": 20.791,
          "num_HH": 1034,
          "pct_asian": 0,
          "pct_black": 0.0187,
          "pct_hisp": 0.2624,
          "pct_other": 0.017,
          "pct_white": 0.7019
         },
         "type": "Feature"
        },
        {
         "geometry": {
          "coordinates": [
           [
            [
             [
              -209712.6006,
              467576.2342
             ],
             [
              -209558.8676,
              467714.4411
             ],
             [
              -208863.2138,
              468344.2817
             ],
             [
              -208709.1261,
              468172.9898
             ],
             [
              -208385.827,
              467740.6118
             ],
             [
              -208459.4255,
              467408.5675
             ],
             [
              -208779.25,
              467659.2792
             ],
             [
              -209277.6643,
              467403.4379
             ],
             [
              -209352.3987,
              467365.5811
             ],
             [
              -209608.2485,
              467235.4055
             ],
             [
              -209715.865,
              467573.2862
             ],
             [
              -209712.6006,
              467576.2342
             ]
            ]
           ]
          ],
          "type": "MultiPolygon"
         },
         "properties": {
          "GEOID": "36029005801",
          "HBRESDN": 61713.5164,
          "HHSIZE": 2.58,
          "HHVEHCNT": 0.9293,
          "income_k": 17.535,
          "num_HH": 1428,
          "pct_asian": 0.0432,
          "pct_black": 0.1104,
          "pct_hisp": 0.2493,
          "pct_other": 0.0908,
          "pct_white": 0.5063
         },
         "type": "Feature"
        }
       ],
       "type": "FeatureCollection"
      },
      "text/html": [
       "<table>\n",
       "<caption>A sf: 6 × 12</caption>\n",
       "<thead>\n",
       "\t<tr><th></th><th scope=col>GEOID</th><th scope=col>HHSIZE</th><th scope=col>HHVEHCNT</th><th scope=col>income_k</th><th scope=col>pct_white</th><th scope=col>pct_black</th><th scope=col>pct_hisp</th><th scope=col>pct_asian</th><th scope=col>pct_other</th><th scope=col>HBRESDN</th><th scope=col>num_HH</th><th scope=col>geometry</th></tr>\n",
       "\t<tr><th></th><th scope=col>&lt;chr&gt;</th><th scope=col>&lt;dbl&gt;</th><th scope=col>&lt;dbl&gt;</th><th scope=col>&lt;dbl&gt;</th><th scope=col>&lt;dbl&gt;</th><th scope=col>&lt;dbl&gt;</th><th scope=col>&lt;dbl&gt;</th><th scope=col>&lt;dbl&gt;</th><th scope=col>&lt;dbl&gt;</th><th scope=col>&lt;dbl&gt;</th><th scope=col>&lt;dbl&gt;</th><th scope=col>&lt;MULTIPOLYGON [m]&gt;</th></tr>\n",
       "</thead>\n",
       "<tbody>\n",
       "\t<tr><th scope=row>1</th><td>36029017300</td><td>2.37</td><td>1.7742156</td><td>42.048</td><td>0.9828964</td><td>0.003364643</td><td>0.005888126</td><td>0.00364503</td><td>0.004205804</td><td> 8638.4119</td><td>2932</td><td>MULTIPOLYGON (((-197779.6 4...</td></tr>\n",
       "\t<tr><th scope=row>2</th><td>36029017400</td><td>3.13</td><td>1.1489971</td><td>19.423</td><td>0.4717327</td><td>0.257267109</td><td>0.136873426</td><td>0.01808194</td><td>0.116044862</td><td> 5408.0001</td><td>1396</td><td>MULTIPOLYGON (((-207485.7 4...</td></tr>\n",
       "\t<tr><th scope=row>3</th><td>36029017501</td><td>2.09</td><td>1.3121212</td><td>28.829</td><td>0.8766737</td><td>0.003523608</td><td>0.021141649</td><td>0.01973221</td><td>0.078928823</td><td> 3441.7670</td><td> 660</td><td>MULTIPOLYGON (((-215285.5 4...</td></tr>\n",
       "\t<tr><th scope=row>4</th><td>36029017502</td><td>2.43</td><td>1.9789474</td><td>28.630</td><td>0.9750859</td><td>0.003865979</td><td>0.010309278</td><td>0.00000000</td><td>0.010738832</td><td>  256.5629</td><td> 950</td><td>MULTIPOLYGON (((-215157.7 4...</td></tr>\n",
       "\t<tr><th scope=row>5</th><td>36029000110</td><td>2.73</td><td>1.2553191</td><td>20.791</td><td>0.7019095</td><td>0.018741160</td><td>0.262376238</td><td>0.00000000</td><td>0.016973126</td><td> 3770.6634</td><td>1034</td><td>MULTIPOLYGON (((-207344.1 4...</td></tr>\n",
       "\t<tr><th scope=row>6</th><td>36029005801</td><td>2.58</td><td>0.9292717</td><td>17.535</td><td>0.5062534</td><td>0.110386079</td><td>0.249320283</td><td>0.04323002</td><td>0.090810223</td><td>61713.5164</td><td>1428</td><td>MULTIPOLYGON (((-209712.6 4...</td></tr>\n",
       "</tbody>\n",
       "</table>\n"
      ],
      "text/latex": [
       "A sf: 6 × 12\n",
       "\\begin{tabular}{r|llllllllllll}\n",
       "  & GEOID & HHSIZE & HHVEHCNT & income\\_k & pct\\_white & pct\\_black & pct\\_hisp & pct\\_asian & pct\\_other & HBRESDN & num\\_HH & geometry\\\\\n",
       "  & <chr> & <dbl> & <dbl> & <dbl> & <dbl> & <dbl> & <dbl> & <dbl> & <dbl> & <dbl> & <dbl> & <MULTIPOLYGON {[}m{]}>\\\\\n",
       "\\hline\n",
       "\t1 & 36029017300 & 2.37 & 1.7742156 & 42.048 & 0.9828964 & 0.003364643 & 0.005888126 & 0.00364503 & 0.004205804 &  8638.4119 & 2932 & MULTIPOLYGON (((-197779.6 4...\\\\\n",
       "\t2 & 36029017400 & 3.13 & 1.1489971 & 19.423 & 0.4717327 & 0.257267109 & 0.136873426 & 0.01808194 & 0.116044862 &  5408.0001 & 1396 & MULTIPOLYGON (((-207485.7 4...\\\\\n",
       "\t3 & 36029017501 & 2.09 & 1.3121212 & 28.829 & 0.8766737 & 0.003523608 & 0.021141649 & 0.01973221 & 0.078928823 &  3441.7670 &  660 & MULTIPOLYGON (((-215285.5 4...\\\\\n",
       "\t4 & 36029017502 & 2.43 & 1.9789474 & 28.630 & 0.9750859 & 0.003865979 & 0.010309278 & 0.00000000 & 0.010738832 &   256.5629 &  950 & MULTIPOLYGON (((-215157.7 4...\\\\\n",
       "\t5 & 36029000110 & 2.73 & 1.2553191 & 20.791 & 0.7019095 & 0.018741160 & 0.262376238 & 0.00000000 & 0.016973126 &  3770.6634 & 1034 & MULTIPOLYGON (((-207344.1 4...\\\\\n",
       "\t6 & 36029005801 & 2.58 & 0.9292717 & 17.535 & 0.5062534 & 0.110386079 & 0.249320283 & 0.04323002 & 0.090810223 & 61713.5164 & 1428 & MULTIPOLYGON (((-209712.6 4...\\\\\n",
       "\\end{tabular}\n"
      ],
      "text/markdown": [
       "\n",
       "A sf: 6 × 12\n",
       "\n",
       "| <!--/--> | GEOID &lt;chr&gt; | HHSIZE &lt;dbl&gt; | HHVEHCNT &lt;dbl&gt; | income_k &lt;dbl&gt; | pct_white &lt;dbl&gt; | pct_black &lt;dbl&gt; | pct_hisp &lt;dbl&gt; | pct_asian &lt;dbl&gt; | pct_other &lt;dbl&gt; | HBRESDN &lt;dbl&gt; | num_HH &lt;dbl&gt; | geometry &lt;MULTIPOLYGON [m]&gt; |\n",
       "|---|---|---|---|---|---|---|---|---|---|---|---|---|\n",
       "| 1 | 36029017300 | 2.37 | 1.7742156 | 42.048 | 0.9828964 | 0.003364643 | 0.005888126 | 0.00364503 | 0.004205804 |  8638.4119 | 2932 | MULTIPOLYGON (((-197779.6 4... |\n",
       "| 2 | 36029017400 | 3.13 | 1.1489971 | 19.423 | 0.4717327 | 0.257267109 | 0.136873426 | 0.01808194 | 0.116044862 |  5408.0001 | 1396 | MULTIPOLYGON (((-207485.7 4... |\n",
       "| 3 | 36029017501 | 2.09 | 1.3121212 | 28.829 | 0.8766737 | 0.003523608 | 0.021141649 | 0.01973221 | 0.078928823 |  3441.7670 |  660 | MULTIPOLYGON (((-215285.5 4... |\n",
       "| 4 | 36029017502 | 2.43 | 1.9789474 | 28.630 | 0.9750859 | 0.003865979 | 0.010309278 | 0.00000000 | 0.010738832 |   256.5629 |  950 | MULTIPOLYGON (((-215157.7 4... |\n",
       "| 5 | 36029000110 | 2.73 | 1.2553191 | 20.791 | 0.7019095 | 0.018741160 | 0.262376238 | 0.00000000 | 0.016973126 |  3770.6634 | 1034 | MULTIPOLYGON (((-207344.1 4... |\n",
       "| 6 | 36029005801 | 2.58 | 0.9292717 | 17.535 | 0.5062534 | 0.110386079 | 0.249320283 | 0.04323002 | 0.090810223 | 61713.5164 | 1428 | MULTIPOLYGON (((-209712.6 4... |\n",
       "\n"
      ],
      "text/plain": [
       "  GEOID       HHSIZE HHVEHCNT  income_k pct_white pct_black   pct_hisp   \n",
       "1 36029017300 2.37   1.7742156 42.048   0.9828964 0.003364643 0.005888126\n",
       "2 36029017400 3.13   1.1489971 19.423   0.4717327 0.257267109 0.136873426\n",
       "3 36029017501 2.09   1.3121212 28.829   0.8766737 0.003523608 0.021141649\n",
       "4 36029017502 2.43   1.9789474 28.630   0.9750859 0.003865979 0.010309278\n",
       "5 36029000110 2.73   1.2553191 20.791   0.7019095 0.018741160 0.262376238\n",
       "6 36029005801 2.58   0.9292717 17.535   0.5062534 0.110386079 0.249320283\n",
       "  pct_asian  pct_other   HBRESDN    num_HH geometry                      \n",
       "1 0.00364503 0.004205804  8638.4119 2932   MULTIPOLYGON (((-197779.6 4...\n",
       "2 0.01808194 0.116044862  5408.0001 1396   MULTIPOLYGON (((-207485.7 4...\n",
       "3 0.01973221 0.078928823  3441.7670  660   MULTIPOLYGON (((-215285.5 4...\n",
       "4 0.00000000 0.010738832   256.5629  950   MULTIPOLYGON (((-215157.7 4...\n",
       "5 0.00000000 0.016973126  3770.6634 1034   MULTIPOLYGON (((-207344.1 4...\n",
       "6 0.04323002 0.090810223 61713.5164 1428   MULTIPOLYGON (((-209712.6 4..."
      ]
     },
     "metadata": {},
     "output_type": "display_data"
    }
   ],
   "source": [
    "tracts <- get_acs(geography = \"tract\", variables = vars, \n",
    "                  state = \"NY\", county = c(\"Erie\", \"Niagara\"), \n",
    "                  geometry = TRUE, output = \"wide\") %>%\n",
    "  mutate(HHVEHCNT = \n",
    "         (HH_1VEHE + 2*HH_2VEHE + 3*HH_3VEHE + 4*HH_4VEHE)/num_HHE) %>%\n",
    "  mutate(income_k = HHFAMINCE/1000) %>%\n",
    "  mutate(pct_white = white_popE / tot_popE) %>%\n",
    "  mutate(pct_black = black_popE / tot_popE) %>%\n",
    "  mutate(pct_hisp = hisp_popE / tot_popE) %>%\n",
    "  mutate(pct_asian = asian_popE / tot_popE) %>%\n",
    "  mutate(pct_other = 1 - pct_white - pct_black - pct_hisp - pct_asian) %>%\n",
    "  st_transform(2828)  %>% # makes it so you can calculate the tract area\n",
    "  mutate(sq_mi = as.numeric(st_area(.))/(5280^2)) %>% #5280 feet per mile\n",
    "  mutate(HBRESDN = num_HUsE / sq_mi) %>%\n",
    "  rename(num_HH = num_HHE) %>%\n",
    "  filter(tot_popE > 0) %>%\n",
    "  select(GEOID, HHSIZE, HHVEHCNT, income_k, pct_white, pct_black, pct_hisp, pct_asian,\n",
    "         pct_other, HBRESDN, num_HH)\n",
    "\n",
    "head(tracts)"
   ]
  },
  {
   "cell_type": "markdown",
   "metadata": {},
   "source": [
    "#### Step 1.2 Visualize zonal household data\n",
    "We'll start with average household size."
   ]
  },
  {
   "cell_type": "code",
   "execution_count": 5,
   "metadata": {},
   "outputs": [
    {
     "data": {
      "image/png": "[encoded data removed]",
      "text/plain": [
       "plot without title"
      ]
     },
     "metadata": {
      "image/png": {
       "height": 420,
       "width": 420
      },
      "text/plain": {
       "height": 420,
       "width": 420
      }
     },
     "output_type": "display_data"
    }
   ],
   "source": [
    "ggplot(tracts, aes(fill = HHSIZE)) + \n",
    "  geom_sf(color = NA) + \n",
    "  scale_fill_viridis_c(\"Average household size\") + \n",
    "  theme(axis.text=element_blank(),\n",
    "        axis.ticks=element_blank(),\n",
    "        panel.background = element_blank()) "
   ]
  },
  {
   "cell_type": "markdown",
   "metadata": {},
   "source": [
    "Next, we'll do vehicle ownership:"
   ]
  },
  {
   "cell_type": "code",
   "execution_count": 6,
   "metadata": {},
   "outputs": [
    {
     "data": {
      "image/png": "[encoded data removed]",
      "text/plain": [
       "plot without title"
      ]
     },
     "metadata": {
      "image/png": {
       "height": 420,
       "width": 420
      },
      "text/plain": {
       "height": 420,
       "width": 420
      }
     },
     "output_type": "display_data"
    }
   ],
   "source": [
    "ggplot(tracts, aes(fill = HHVEHCNT)) + \n",
    "  geom_sf(color = NA) + \n",
    "  scale_fill_viridis_c(\"Average number of\\nvehicles per household\") + \n",
    "  theme(axis.text=element_blank(),\n",
    "        axis.ticks=element_blank(),\n",
    "        panel.background = element_blank()) "
   ]
  },
  {
   "cell_type": "markdown",
   "metadata": {},
   "source": [
    "Then median income:"
   ]
  },
  {
   "cell_type": "code",
   "execution_count": 7,
   "metadata": {},
   "outputs": [
    {
     "data": {
      "image/png": "[encoded data removed]",
      "text/plain": [
       "plot without title"
      ]
     },
     "metadata": {
      "image/png": {
       "height": 420,
       "width": 420
      },
      "text/plain": {
       "height": 420,
       "width": 420
      }
     },
     "output_type": "display_data"
    }
   ],
   "source": [
    "inc_breaks <- seq(0, 60000, by=10000)\n",
    "\n",
    "ggplot(tracts, aes(fill = income_k*1000)) + \n",
    "  geom_sf(color = NA) + \n",
    "  scale_fill_viridis_c(\"Median income\", \n",
    "                       breaks = inc_breaks,\n",
    "                      labels = paste(\"$\",prettyNum(inc_breaks, \n",
    "                                  big.mark = \",\",scientific = FALSE),sep=\"\")) + \n",
    "  theme(axis.text=element_blank(),\n",
    "        axis.ticks=element_blank(),\n",
    "        panel.background = element_blank()) "
   ]
  },
  {
   "cell_type": "markdown",
   "metadata": {},
   "source": [
    "And residential density. To make the variation easier to see, I'm using a log scale."
   ]
  },
  {
   "cell_type": "code",
   "execution_count": 8,
   "metadata": {},
   "outputs": [
    {
     "name": "stderr",
     "output_type": "stream",
     "text": [
      "Warning message:\n",
      "\"Transformation introduced infinite values in discrete y-axis\"\n"
     ]
    },
    {
     "data": {
      "image/png": "[encoded data removed]",
      "text/plain": [
       "plot without title"
      ]
     },
     "metadata": {
      "image/png": {
       "height": 420,
       "width": 420
      },
      "text/plain": {
       "height": 420,
       "width": 420
      }
     },
     "output_type": "display_data"
    }
   ],
   "source": [
    "dens_breaks <- c(6, 60, 600, 6000, 60000)\n",
    "\n",
    "ggplot(tracts, aes(fill = HBRESDN)) + \n",
    "  geom_sf(color = NA) + \n",
    "  scale_fill_viridis_c(\"Housing units\\nper square mile\", \n",
    "                       trans = \"log\",\n",
    "                       breaks = dens_breaks,\n",
    "                       labels = prettyNum(dens_breaks, big.mark = \",\")) + \n",
    "  theme(axis.text=element_blank(),\n",
    "        axis.ticks=element_blank(),\n",
    "        panel.background = element_blank()) "
   ]
  },
  {
   "cell_type": "markdown",
   "metadata": {},
   "source": [
    "And finally, lets look at race. One approach could be to create five different chloropleth maps, each showning the percentage of the population identifying in one of our race/ethnicity categories.\n",
    "\n",
    "Another approach is to create a dot density map showing the spatial distribution of all five race/ethnicity categories on a single map.\n",
    "\n",
    "We'll start by creating five set of points, one for each race/ethnicity category, where each point represents 100 households, and they are distributed randomly with their respective zones.\n",
    "\n",
    "It takes a while to create all these points, so be patient (maybe go get a snack while you wait)."
   ]
  },
  {
   "cell_type": "code",
   "execution_count": 9,
   "metadata": {},
   "outputs": [],
   "source": [
    "white_pts <- st_sample(tracts, size = ceiling(tracts$num_HH * tracts$pct_white / 100))\n",
    "black_pts <- st_sample(tracts, size = ceiling(tracts$num_HH * tracts$pct_black / 100))\n",
    "asian_pts <- st_sample(tracts, size = ceiling(tracts$num_HH * tracts$pct_asian / 100))\n",
    "hisp_pts <- st_sample(tracts, size = ceiling(tracts$num_HH * tracts$pct_hisp / 100))\n",
    "other_pts <- st_sample(tracts, size = ceiling(tracts$num_HH * tracts$pct_other / 100))"
   ]
  },
  {
   "cell_type": "markdown",
   "metadata": {},
   "source": [
    "Then we'll put each of those five sets of points into its own dataframe with a column indicating the race/ethnicity category, and finally, we'll combine the five sets into a single dataframe."
   ]
  },
  {
   "cell_type": "code",
   "execution_count": 11,
   "metadata": {},
   "outputs": [],
   "source": [
    "white <- st_sf(data.frame(race_eth = rep(\"1.Non-Hispanic White\", length(white_pts)), geom=white_pts))\n",
    "black <- st_sf(data.frame(race_eth = rep(\"2.Non-Hispanic Black\", length(black_pts)), geom=black_pts))\n",
    "hisp <- st_sf(data.frame(race_eth = rep(\"3.Hispanic\", length(hisp_pts)), geom=hisp_pts))\n",
    "asian <- st_sf(data.frame(race_eth = rep(\"4.Asian\", length(asian_pts)), geom=asian_pts))\n",
    "other <- st_sf(data.frame(race_eth = rep(\"5.Other\", length(other_pts)), geom=other_pts))\n",
    "\n",
    "race_pts <- rbind(white, black, hisp, asian, other)"
   ]
  },
  {
   "cell_type": "markdown",
   "metadata": {},
   "source": [
    "Now we can plot all these points on a map!\n",
    "\n",
    "I'm making the dots transparent (alpha = 0.3) and tiny (size = 0.1) to avoid overplotting.\n",
    "\n",
    "The guides() function at the end lets me adjust the dot sizes in the legend.\n",
    "\n",
    "Keep in mind that a dot-density map like this can be a little deceptive by randomly (and somewhat evenly) distributing points within a zone, and that generally won't match the actual spatial distribuution of the population within zones."
   ]
  },
  {
   "cell_type": "code",
   "execution_count": 12,
   "metadata": {},
   "outputs": [
    {
     "data": {
      "image/png": "[encoded data removed]",
      "text/plain": [
       "plot without title"
      ]
     },
     "metadata": {
      "image/png": {
       "height": 420,
       "width": 420
      },
      "text/plain": {
       "height": 420,
       "width": 420
      }
     },
     "output_type": "display_data"
    }
   ],
   "source": [
    "ggplot(tracts) + \n",
    "  geom_sf(color = \"white\") +\n",
    "  geom_sf(data = race_pts, \n",
    "          aes(color = race_eth), \n",
    "          alpha = 0.3,\n",
    "          size = 0.1) +\n",
    "  scale_color_hue(\"Race and ethnicity\\n(each points represents\\n100 households)\", \n",
    "                  labels = c(\"Non-Hispanic White\",\n",
    "                             \"Non-Hispanic Black\",\n",
    "                             \"Hispanic\",\n",
    "                             \"Asian\",\n",
    "                             \"Other\")) + \n",
    "  theme(axis.text=element_blank(),\n",
    "        axis.ticks=element_blank(),\n",
    "        panel.background = element_blank(),\n",
    "       legend.key = element_blank())  +\n",
    "  guides(color = guide_legend(override.aes = list(size=5, alpha = 0.6)))"
   ]
  },
  {
   "cell_type": "markdown",
   "metadata": {},
   "source": [
    "#### Step 1.3 Load coefficient estimates from assignment 1.2.1"
   ]
  },
  {
   "cell_type": "code",
   "execution_count": 13,
   "metadata": {},
   "outputs": [
    {
     "name": "stderr",
     "output_type": "stream",
     "text": [
      "Parsed with column specification:\n",
      "cols(\n",
      "  variable = \u001b[31mcol_character()\u001b[39m,\n",
      "  coefficient = \u001b[32mcol_double()\u001b[39m,\n",
      "  SE = \u001b[32mcol_double()\u001b[39m\n",
      ")\n",
      "\n"
     ]
    },
    {
     "data": {
      "text/html": [
       "<table>\n",
       "<caption>A spec_tbl_df: 9 × 3</caption>\n",
       "<thead>\n",
       "\t<tr><th scope=col>variable</th><th scope=col>coefficient</th><th scope=col>SE</th></tr>\n",
       "\t<tr><th scope=col>&lt;chr&gt;</th><th scope=col>&lt;dbl&gt;</th><th scope=col>&lt;dbl&gt;</th></tr>\n",
       "</thead>\n",
       "<tbody>\n",
       "\t<tr><td>(Intercept)                 </td><td> 0.4603455224</td><td>5.964516e-01</td></tr>\n",
       "\t<tr><td>HHSIZE                      </td><td> 1.7243979206</td><td>2.426806e-01</td></tr>\n",
       "\t<tr><td>HHVEHCNT                    </td><td> 0.7998154336</td><td>3.492903e-01</td></tr>\n",
       "\t<tr><td>income_k                    </td><td> 0.0170357685</td><td>5.466478e-03</td></tr>\n",
       "\t<tr><td>race_eth2.Non-Hispanic Black</td><td> 0.9744132839</td><td>1.077636e+00</td></tr>\n",
       "\t<tr><td>race_eth3.Asian             </td><td>-2.1590017758</td><td>2.032990e+00</td></tr>\n",
       "\t<tr><td>race_eth4.Hispanic          </td><td>-1.2545194219</td><td>1.109555e+00</td></tr>\n",
       "\t<tr><td>race_eth5.Other             </td><td> 0.9418612195</td><td>1.106677e+00</td></tr>\n",
       "\t<tr><td>HBRESDN                     </td><td> 0.0002523581</td><td>9.845979e-05</td></tr>\n",
       "</tbody>\n",
       "</table>\n"
      ],
      "text/latex": [
       "A spec\\_tbl\\_df: 9 × 3\n",
       "\\begin{tabular}{lll}\n",
       " variable & coefficient & SE\\\\\n",
       " <chr> & <dbl> & <dbl>\\\\\n",
       "\\hline\n",
       "\t (Intercept)                  &  0.4603455224 & 5.964516e-01\\\\\n",
       "\t HHSIZE                       &  1.7243979206 & 2.426806e-01\\\\\n",
       "\t HHVEHCNT                     &  0.7998154336 & 3.492903e-01\\\\\n",
       "\t income\\_k                     &  0.0170357685 & 5.466478e-03\\\\\n",
       "\t race\\_eth2.Non-Hispanic Black &  0.9744132839 & 1.077636e+00\\\\\n",
       "\t race\\_eth3.Asian              & -2.1590017758 & 2.032990e+00\\\\\n",
       "\t race\\_eth4.Hispanic           & -1.2545194219 & 1.109555e+00\\\\\n",
       "\t race\\_eth5.Other              &  0.9418612195 & 1.106677e+00\\\\\n",
       "\t HBRESDN                      &  0.0002523581 & 9.845979e-05\\\\\n",
       "\\end{tabular}\n"
      ],
      "text/markdown": [
       "\n",
       "A spec_tbl_df: 9 × 3\n",
       "\n",
       "| variable &lt;chr&gt; | coefficient &lt;dbl&gt; | SE &lt;dbl&gt; |\n",
       "|---|---|---|\n",
       "| (Intercept)                  |  0.4603455224 | 5.964516e-01 |\n",
       "| HHSIZE                       |  1.7243979206 | 2.426806e-01 |\n",
       "| HHVEHCNT                     |  0.7998154336 | 3.492903e-01 |\n",
       "| income_k                     |  0.0170357685 | 5.466478e-03 |\n",
       "| race_eth2.Non-Hispanic Black |  0.9744132839 | 1.077636e+00 |\n",
       "| race_eth3.Asian              | -2.1590017758 | 2.032990e+00 |\n",
       "| race_eth4.Hispanic           | -1.2545194219 | 1.109555e+00 |\n",
       "| race_eth5.Other              |  0.9418612195 | 1.106677e+00 |\n",
       "| HBRESDN                      |  0.0002523581 | 9.845979e-05 |\n",
       "\n"
      ],
      "text/plain": [
       "  variable                     coefficient   SE          \n",
       "1 (Intercept)                   0.4603455224 5.964516e-01\n",
       "2 HHSIZE                        1.7243979206 2.426806e-01\n",
       "3 HHVEHCNT                      0.7998154336 3.492903e-01\n",
       "4 income_k                      0.0170357685 5.466478e-03\n",
       "5 race_eth2.Non-Hispanic Black  0.9744132839 1.077636e+00\n",
       "6 race_eth3.Asian              -2.1590017758 2.032990e+00\n",
       "7 race_eth4.Hispanic           -1.2545194219 1.109555e+00\n",
       "8 race_eth5.Other               0.9418612195 1.106677e+00\n",
       "9 HBRESDN                       0.0002523581 9.845979e-05"
      ]
     },
     "metadata": {},
     "output_type": "display_data"
    }
   ],
   "source": [
    "model_results <- read_csv(\"prod_model.csv\")\n",
    "model_results"
   ]
  },
  {
   "cell_type": "markdown",
   "metadata": {},
   "source": [
    "#### Step 1.4: Estimate zonal productions\n",
    "If you multiply each model coefficient by the average value for each tract, you'll get an average number of trips per household. Multiplying this by the total number of households gives you the total number of trip productions in each tract."
   ]
  },
  {
   "cell_type": "code",
   "execution_count": 16,
   "metadata": {},
   "outputs": [
    {
     "data": {
      "application/geo+json": {
       "features": [
        {
         "geometry": {
          "coordinates": [
           [
            [
             [
              -197779.5864,
              452961.6146
             ],
             [
              -197532.9137,
              453005.3948
             ],
             [
              -196927.8488,
              452959.6974
             ],
             [
              -196834.5785,
              452938.174
             ],
             [
              -196515.0547,
              452786.4024
             ],
             [
              -196306.3269,
              452664.5063
             ],
             [
              -195864.0108,
              452538.1075
             ],
             [
              -195715.3131,
              452554.1337
             ],
             [
              -194890.3797,
              452802.1986
             ],
             [
              -194359.8682,
              452934.2207
             ],
             [
              -194309.05,
              453390.8952
             ],
             [
              -194296.4449,
              453506.7674
             ],
             [
              -193105.0489,
              453275.917
             ],
             [
              -193130.948,
              452788.0384
             ],
             [
              -193225.9044,
              450713.4692
             ],
             [
              -193256.0947,
              450247.8587
             ],
             [
              -194063.8703,
              450294.5381
             ],
             [
              -194318.9512,
              450308.296
             ],
             [
              -194560.2899,
              450321.3755
             ],
             [
              -195300.6008,
              450361.1482
             ],
             [
              -196081.7955,
              451406.1654
             ],
             [
              -196331.077,
              451418.8195
             ],
             [
              -196602.1399,
              451433.6937
             ],
             [
              -197773.6133,
              451498.5967
             ],
             [
              -197787.2015,
              452076.4833
             ],
             [
              -197784.0409,
              452607.6331
             ],
             [
              -197779.5864,
              452961.6146
             ]
            ]
           ]
          ],
          "type": "MultiPolygon"
         },
         "properties": {
          "GEOID": "36029017300",
          "HBRESDN": 8638.4119,
          "HHSIZE": 2.37,
          "HHVEHCNT": 1.7742,
          "income_k": 42.048,
          "num_HH": 2932,
          "pct_asian": 0.0036,
          "pct_black": 0.0034,
          "pct_hisp": 0.0059,
          "pct_other": 0.0042,
          "pct_white": 0.9829,
          "productions": 25961.3641
         },
         "type": "Feature"
        },
        {
         "geometry": {
          "coordinates": [
           [
            [
             [
              -207485.7243,
              452645.178
             ],
             [
              -207412.5982,
              452870.7677
             ],
             [
              -207335.0696,
              453109.9517
             ],
             [
              -207321.7757,
              453150.966
             ],
             [
              -207268.4053,
              453315.6287
             ],
             [
              -207217.1881,
              453473.6539
             ],
             [
              -206973.0917,
              453512.3674
             ],
             [
              -206805.1872,
              453288.7262
             ],
             [
              -206661.5536,
              453280.4957
             ],
             [
              -205965.3837,
              453242.0867
             ],
             [
              -205899.0894,
              453238.21
             ],
             [
              -205215.7334,
              453199.4263
             ],
             [
              -204887.0065,
              453155.4966
             ],
             [
              -204644.6484,
              453141.1007
             ],
             [
              -204567.5144,
              453126.4294
             ],
             [
              -204410.6359,
              452482.5974
             ],
             [
              -204722.0301,
              452543.6531
             ],
             [
              -204688.2125,
              452240.5779
             ],
             [
              -204763.8745,
              451014.7584
             ],
             [
              -204728.9057,
              450682.7734
             ],
             [
              -204740.4161,
              450543.7855
             ],
             [
              -204845.7905,
              450233.9618
             ],
             [
              -205019.5895,
              450156.2557
             ],
             [
              -205155.8847,
              450160.0557
             ],
             [
              -205498.5964,
              450201.251
             ],
             [
              -205684.206,
              450209.5023
             ],
             [
              -206805.2953,
              450291.8524
             ],
             [
              -207256.4947,
              451494.6238
             ],
             [
              -207495.5697,
              452255.3335
             ],
             [
              -207485.7243,
              452645.178
             ]
            ]
           ]
          ],
          "type": "MultiPolygon"
         },
         "properties": {
          "GEOID": "36029017400",
          "HBRESDN": 5408.0001,
          "HHSIZE": 3.13,
          "HHVEHCNT": 1.149,
          "income_k": 19.423,
          "num_HH": 1396,
          "pct_asian": 0.0181,
          "pct_black": 0.2573,
          "pct_hisp": 0.1369,
          "pct_other": 0.116,
          "pct_white": 0.4717,
          "productions": 12035.709
         },
         "type": "Feature"
        },
        {
         "geometry": {
          "coordinates": [
           [
            [
             [
              -215285.5473,
              416722.7215
             ],
             [
              -214067.1207,
              416694.2806
             ],
             [
              -214050.0539,
              416279.9629
             ],
             [
              -212845.7382,
              416199.7883
             ],
             [
              -212915.6841,
              414924.754
             ],
             [
              -213062.7678,
              414717.9734
             ],
             [
              -213337.5671,
              414655.4425
             ],
             [
              -213264.2849,
              414457.4422
             ],
             [
              -212969.6499,
              414098.3976
             ],
             [
              -213025.2972,
              412921.6576
             ],
             [
              -213521.4173,
              412686.0695
             ],
             [
              -213736.8866,
              412774.0746
             ],
             [
              -213888.3808,
              412670.3604
             ],
             [
              -214112.1663,
              412911.6586
             ],
             [
              -214257.3089,
              412910.5579
             ],
             [
              -214292.0481,
              412172.0915
             ],
             [
              -214366.1448,
              412214.2894
             ],
             [
              -214766.0274,
              412633.9347
             ],
             [
              -215019.2341,
              413108.1962
             ],
             [
              -215212.5281,
              413186.0642
             ],
             [
              -215464.8703,
              413194.8446
             ],
             [
              -215462.5865,
              413213.2183
             ],
             [
              -215425.2273,
              413764.8388
             ],
             [
              -215427.5445,
              414008.2733
             ],
             [
              -215390.3188,
              414671.9768
             ],
             [
              -215386.5323,
              414723.6938
             ],
             [
              -215025.4899,
              414698.9598
             ],
             [
              -214864.5918,
              414176.8313
             ],
             [
              -214179.7769,
              414085.4987
             ],
             [
              -214176.8155,
              414135.8102
             ],
             [
              -213881.6117,
              414214.1784
             ],
             [
              -213279.598,
              414731.2907
             ],
             [
              -213162.7586,
              414984.0952
             ],
             [
              -213288.424,
              414979.2895
             ],
             [
              -213447.203,
              415316.2192
             ],
             [
              -213627.1383,
              415560.3461
             ],
             [
              -213812.4504,
              415561.0072
             ],
             [
              -213804.0959,
              415766.5574
             ],
             [
              -214008.4135,
              415788.3822
             ],
             [
              -214038.5858,
              415966.5374
             ],
             [
              -214213.8714,
              415982.1712
             ],
             [
              -214213.5275,
              416191.9295
             ],
             [
              -214321.2229,
              415989.9075
             ],
             [
              -215117.8644,
              416037.7895
             ],
             [
              -215312.5944,
              415990.8579
             ],
             [
              -215285.5473,
              416722.7215
             ]
            ]
           ]
          ],
          "type": "MultiPolygon"
         },
         "properties": {
          "GEOID": "36029017501",
          "HBRESDN": 3441.767,
          "HHSIZE": 2.09,
          "HHVEHCNT": 1.3121,
          "income_k": 28.829,
          "num_HH": 660,
          "pct_asian": 0.0197,
          "pct_black": 0.0035,
          "pct_hisp": 0.0211,
          "pct_other": 0.0789,
          "pct_white": 0.8767,
          "productions": 4278.201
         },
         "type": "Feature"
        },
        {
         "geometry": {
          "coordinates": [
           [
            [
             [
              -215157.6641,
              419107.5947
             ],
             [
              -215099.9299,
              420184.6624
             ],
             [
              -214021.2153,
              420127.5173
             ],
             [
              -214014.4342,
              420280.5683
             ],
             [
              -213417.8975,
              420250.6828
             ],
             [
              -212796.0708,
              420219.1941
             ],
             [
              -212149.631,
              420188.9294
             ],
             [
              -211907.9904,
              420177.5664
             ],
             [
              -210947.7305,
              420096.5436
             ],
             [
              -210850.5915,
              420114.0018
             ],
             [
              -210390.1594,
              420079.7488
             ],
             [
              -209709.1251,
              420033.6591
             ],
             [
              -209244.5208,
              420002.0516
             ],
             [
              -208335.6524,
              419963.0383
             ],
             [
              -207877.3922,
              419918.7052
             ],
             [
              -206902.3247,
              419879.1448
             ],
             [
              -206637.2298,
              419869.1006
             ],
             [
              -205475.395,
              419825.0601
             ],
             [
              -205437.1425,
              419835.2453
             ],
             [
              -205296.4656,
              419939.3309
             ],
             [
              -201904.5703,
              419761.1816
             ],
             [
              -201906.9949,
              419713.2978
             ],
             [
              -201970.6999,
              418477.8197
             ],
             [
              -201644.5,
              418455.1877
             ],
             [
              -201846.0093,
              412664.8855
             ],
             [
              -201911.3065,
              411778.6851
             ],
             [
              -201822.3597,
              411774.6385
             ],
             [
              -201763.418,
              411663.0651
             ],
             [
              -201398.9506,
              411604.6883
             ],
             [
              -201241.5865,
              411487.0435
             ],
             [
              -201280.9476,
              411257.5781
             ],
             [
              -201541.2733,
              411168.6807
             ],
             [
              -201839.2503,
              411137.941
             ],
             [
              -202125.1701,
              411040.666
             ],
             [
              -202318.2071,
              411111.7943
             ],
             [
              -202604.8183,
              411330.3445
             ],
             [
              -202626.4534,
              411483.032
             ],
             [
              -202992.8295,
              411722.0118
             ],
             [
              -203218.9965,
              411931.4041
             ],
             [
              -203424.0714,
              411941.8041
             ],
             [
              -203621.4335,
              411886.4356
             ],
             [
              -203881.0641,
              411723.963
             ],
             [
              -204018.8434,
              411563.9948
             ],
             [
              -204171.6904,
              411516.6261
             ],
             [
              -204478.1728,
              411573.5354
             ],
             [
              -204760.2819,
              411286.1452
             ],
             [
              -205521.6985,
              410719.8883
             ],
             [
              -205851.4553,
              410870.9404
             ],
             [
              -205926.6343,
              410828.3301
             ],
             [
              -206011.7283,
              410468.8793
             ],
             [
              -206167.9534,
              410525.7603
             ],
             [
              -206375.3801,
              410563.7644
             ],
             [
              -206674.7034,
              410285.7844
             ],
             [
              -206767.0246,
              410000.3369
             ],
             [
              -206907.4181,
              409908.9424
             ],
             [
              -207087.123,
              409905.4461
             ],
             [
              -207352.8219,
              410155.767
             ],
             [
              -207599.5842,
              410166.9728
             ],
             [
              -207804.0545,
              409983.0853
             ],
             [
              -207948.4378,
              409952.5123
             ],
             [
              -208224.561,
              410054.0272
             ],
             [
              -208387.9668,
              410037.0281
             ],
             [
              -208589.3435,
              409913.8226
             ],
             [
              -209055.8453,
              409891.1586
             ],
             [
              -209253.7747,
              409971.3111
             ],
             [
              -209376.8387,
              409944.7923
             ],
             [
              -209506.2627,
              409724.5531
             ],
             [
              -209683.4386,
              409687.2393
             ],
             [
              -209987.9443,
              409895.7814
             ],
             [
              -210173.0995,
              409956.3639
             ],
             [
              -210314.9009,
              409838.8155
             ],
             [
              -210458.4427,
              409805.7984
             ],
             [
              -210627.2865,
              409596.3028
             ],
             [
              -210783.5022,
              409629.4487
             ],
             [
              -210946.7544,
              410038.2616
             ],
             [
              -211066.23,
              410054.1401
             ],
             [
              -211143.1289,
              410015.9034
             ],
             [
              -211378.9058,
              409744.3891
             ],
             [
              -211508.5396,
              409734.7338
             ],
             [
              -211683.3098,
              409931.8396
             ],
             [
              -211796.4847,
              410267.8995
             ],
             [
              -211861.2248,
              410746.8247
             ],
             [
              -212002.0569,
              410873.8927
             ],
             [
              -212434.6966,
              410573.9836
             ],
             [
              -212558.035,
              410602.6781
             ],
             [
              -212936.9727,
              410788.2757
             ],
             [
              -213044.4903,
              410721.464
             ],
             [
              -213082.9337,
              410571.0687
             ],
             [
              -213225.1913,
              410387.0915
             ],
             [
              -213512.5253,
              410220.2605
             ],
             [
              -213684.9197,
              410230.8118
             ],
             [
              -213802.3559,
              410442.2553
             ],
             [
              -213713.2911,
              410884.1108
             ],
             [
              -213482.1475,
              410981.5613
             ],
             [
              -213466.0002,
              411405.052
             ],
             [
              -214023.1588,
              412040.5056
             ],
             [
              -214292.0481,
              412172.0915
             ],
             [
              -214257.3089,
              412910.5579
             ],
             [
              -214112.1663,
              412911.6586
             ],
             [
              -213888.3808,
              412670.3604
             ],
             [
              -213736.8866,
              412774.0746
             ],
             [
              -213521.4173,
              412686.0695
             ],
             [
              -213025.2972,
              412921.6576
             ],
             [
              -212969.6499,
              414098.3976
             ],
             [
              -213264.2849,
              414457.4422
             ],
             [
              -213337.5671,
              414655.4425
             ],
             [
              -213062.7678,
              414717.9734
             ],
             [
              -212915.6841,
              414924.754
             ],
             [
              -212845.7382,
              416199.7883
             ],
             [
              -214050.0539,
              416279.9629
             ],
             [
              -214067.1207,
              416694.2806
             ],
             [
              -215285.5473,
              416722.7215
             ],
             [
              -215157.6641,
              419107.5947
             ]
            ]
           ]
          ],
          "type": "MultiPolygon"
         },
         "properties": {
          "GEOID": "36029017502",
          "HBRESDN": 256.5629,
          "HHSIZE": 2.43,
          "HHVEHCNT": 1.9789,
          "income_k": 28.63,
          "num_HH": 950,
          "pct_asian": 0,
          "pct_black": 0.0039,
          "pct_hisp": 0.0103,
          "pct_other": 0.0107,
          "pct_white": 0.9751,
          "productions": 6447.5106
         },
         "type": "Feature"
        },
        {
         "geometry": {
          "coordinates": [
           [
            [
             [
              -207344.0556,
              455526.5007
             ],
             [
              -206765.7983,
              455710.9067
             ],
             [
              -206874.0266,
              455858.565
             ],
             [
              -206714.7597,
              455833.5849
             ],
             [
              -206486.5455,
              455696.7486
             ],
             [
              -206087.4078,
              455640.9629
             ],
             [
              -205821.0795,
              455723.8636
             ],
             [
              -205568.5823,
              455972.0279
             ],
             [
              -205345.9776,
              456335.0395
             ],
             [
              -205220.4605,
              456556.2503
             ],
             [
              -205051.9111,
              456425.7774
             ],
             [
              -204851.8039,
              456579.3072
             ],
             [
              -204739.1925,
              456641.4449
             ],
             [
              -204488.2265,
              456542.1561
             ],
             [
              -204112.7748,
              456296.5438
             ],
             [
              -204280.6329,
              456137.209
             ],
             [
              -203957.8904,
              455973.5302
             ],
             [
              -204073.1067,
              455665.2133
             ],
             [
              -204102.5919,
              455199.5307
             ],
             [
              -204112.8262,
              455034.2983
             ],
             [
              -204126.4907,
              454792.9354
             ],
             [
              -204139.4115,
              454572.3655
             ],
             [
              -203436.3908,
              454528.3861
             ],
             [
              -203439.218,
              454478.1804
             ],
             [
              -203469.8234,
              453984.9319
             ],
             [
              -203472.2945,
              453940.0549
             ],
             [
              -203488.1591,
              453669.7323
             ],
             [
              -203504.6735,
              453401.114
             ],
             [
              -203525.0138,
              453093.147
             ],
             [
              -203531.1665,
              453010.139
             ],
             [
              -203534.7222,
              452948.9426
             ],
             [
              -203561.7773,
              452519.8992
             ],
             [
              -203827.1735,
              452533.1002
             ],
             [
              -203878.8482,
              452537.5408
             ],
             [
              -204289.2714,
              452544.8547
             ],
             [
              -204410.6359,
              452482.5974
             ],
             [
              -204567.5144,
              453126.4294
             ],
             [
              -204644.6484,
              453141.1007
             ],
             [
              -204887.0065,
              453155.4966
             ],
             [
              -205215.7334,
              453199.4263
             ],
             [
              -205899.0894,
              453238.21
             ],
             [
              -205965.3837,
              453242.0867
             ],
             [
              -206661.5536,
              453280.4957
             ],
             [
              -206626.2735,
              453383.7179
             ],
             [
              -206638.002,
              453565.5271
             ],
             [
              -206494.8984,
              453588.2348
             ],
             [
              -206515.8462,
              453911.6056
             ],
             [
              -206378.0474,
              454278.2136
             ],
             [
              -206816.2797,
              455526.3713
             ],
             [
              -207344.0556,
              455526.5007
             ]
            ]
           ]
          ],
          "type": "MultiPolygon"
         },
         "properties": {
          "GEOID": "36029000110",
          "HBRESDN": 3770.6634,
          "HHSIZE": 2.73,
          "HHVEHCNT": 1.2553,
          "income_k": 20.791,
          "num_HH": 1034,
          "pct_asian": 0,
          "pct_black": 0.0187,
          "pct_hisp": 0.2624,
          "pct_other": 0.017,
          "pct_white": 0.7019,
          "productions": 7427.031
         },
         "type": "Feature"
        },
        {
         "geometry": {
          "coordinates": [
           [
            [
             [
              -209712.6006,
              467576.2342
             ],
             [
              -209558.8676,
              467714.4411
             ],
             [
              -208863.2138,
              468344.2817
             ],
             [
              -208709.1261,
              468172.9898
             ],
             [
              -208385.827,
              467740.6118
             ],
             [
              -208459.4255,
              467408.5675
             ],
             [
              -208779.25,
              467659.2792
             ],
             [
              -209277.6643,
              467403.4379
             ],
             [
              -209352.3987,
              467365.5811
             ],
             [
              -209608.2485,
              467235.4055
             ],
             [
              -209715.865,
              467573.2862
             ],
             [
              -209712.6006,
              467576.2342
             ]
            ]
           ]
          ],
          "type": "MultiPolygon"
         },
         "properties": {
          "GEOID": "36029005801",
          "HBRESDN": 61713.5164,
          "HHSIZE": 2.58,
          "HHVEHCNT": 0.9293,
          "income_k": 17.535,
          "num_HH": 1428,
          "pct_asian": 0.0432,
          "pct_black": 0.1104,
          "pct_hisp": 0.2493,
          "pct_other": 0.0908,
          "pct_white": 0.5063,
          "productions": 30433.7422
         },
         "type": "Feature"
        }
       ],
       "type": "FeatureCollection"
      },
      "text/html": [
       "<table>\n",
       "<caption>A sf: 6 × 13</caption>\n",
       "<thead>\n",
       "\t<tr><th></th><th scope=col>GEOID</th><th scope=col>HHSIZE</th><th scope=col>HHVEHCNT</th><th scope=col>income_k</th><th scope=col>pct_white</th><th scope=col>pct_black</th><th scope=col>pct_hisp</th><th scope=col>pct_asian</th><th scope=col>pct_other</th><th scope=col>HBRESDN</th><th scope=col>num_HH</th><th scope=col>geometry</th><th scope=col>productions</th></tr>\n",
       "\t<tr><th></th><th scope=col>&lt;chr&gt;</th><th scope=col>&lt;dbl&gt;</th><th scope=col>&lt;dbl&gt;</th><th scope=col>&lt;dbl&gt;</th><th scope=col>&lt;dbl&gt;</th><th scope=col>&lt;dbl&gt;</th><th scope=col>&lt;dbl&gt;</th><th scope=col>&lt;dbl&gt;</th><th scope=col>&lt;dbl&gt;</th><th scope=col>&lt;dbl&gt;</th><th scope=col>&lt;dbl&gt;</th><th scope=col>&lt;MULTIPOLYGON [m]&gt;</th><th scope=col>&lt;dbl&gt;</th></tr>\n",
       "</thead>\n",
       "<tbody>\n",
       "\t<tr><th scope=row>1</th><td>36029017300</td><td>2.37</td><td>1.7742156</td><td>42.048</td><td>0.9828964</td><td>0.003364643</td><td>0.005888126</td><td>0.00364503</td><td>0.004205804</td><td> 8638.4119</td><td>2932</td><td>MULTIPOLYGON (((-197779.6 4...</td><td>25961.364</td></tr>\n",
       "\t<tr><th scope=row>2</th><td>36029017400</td><td>3.13</td><td>1.1489971</td><td>19.423</td><td>0.4717327</td><td>0.257267109</td><td>0.136873426</td><td>0.01808194</td><td>0.116044862</td><td> 5408.0001</td><td>1396</td><td>MULTIPOLYGON (((-207485.7 4...</td><td>12035.709</td></tr>\n",
       "\t<tr><th scope=row>3</th><td>36029017501</td><td>2.09</td><td>1.3121212</td><td>28.829</td><td>0.8766737</td><td>0.003523608</td><td>0.021141649</td><td>0.01973221</td><td>0.078928823</td><td> 3441.7670</td><td> 660</td><td>MULTIPOLYGON (((-215285.5 4...</td><td> 4278.201</td></tr>\n",
       "\t<tr><th scope=row>4</th><td>36029017502</td><td>2.43</td><td>1.9789474</td><td>28.630</td><td>0.9750859</td><td>0.003865979</td><td>0.010309278</td><td>0.00000000</td><td>0.010738832</td><td>  256.5629</td><td> 950</td><td>MULTIPOLYGON (((-215157.7 4...</td><td> 6447.511</td></tr>\n",
       "\t<tr><th scope=row>5</th><td>36029000110</td><td>2.73</td><td>1.2553191</td><td>20.791</td><td>0.7019095</td><td>0.018741160</td><td>0.262376238</td><td>0.00000000</td><td>0.016973126</td><td> 3770.6634</td><td>1034</td><td>MULTIPOLYGON (((-207344.1 4...</td><td> 7427.031</td></tr>\n",
       "\t<tr><th scope=row>6</th><td>36029005801</td><td>2.58</td><td>0.9292717</td><td>17.535</td><td>0.5062534</td><td>0.110386079</td><td>0.249320283</td><td>0.04323002</td><td>0.090810223</td><td>61713.5164</td><td>1428</td><td>MULTIPOLYGON (((-209712.6 4...</td><td>30433.742</td></tr>\n",
       "</tbody>\n",
       "</table>\n"
      ],
      "text/latex": [
       "A sf: 6 × 13\n",
       "\\begin{tabular}{r|lllllllllllll}\n",
       "  & GEOID & HHSIZE & HHVEHCNT & income\\_k & pct\\_white & pct\\_black & pct\\_hisp & pct\\_asian & pct\\_other & HBRESDN & num\\_HH & geometry & productions\\\\\n",
       "  & <chr> & <dbl> & <dbl> & <dbl> & <dbl> & <dbl> & <dbl> & <dbl> & <dbl> & <dbl> & <dbl> & <MULTIPOLYGON {[}m{]}> & <dbl>\\\\\n",
       "\\hline\n",
       "\t1 & 36029017300 & 2.37 & 1.7742156 & 42.048 & 0.9828964 & 0.003364643 & 0.005888126 & 0.00364503 & 0.004205804 &  8638.4119 & 2932 & MULTIPOLYGON (((-197779.6 4... & 25961.364\\\\\n",
       "\t2 & 36029017400 & 3.13 & 1.1489971 & 19.423 & 0.4717327 & 0.257267109 & 0.136873426 & 0.01808194 & 0.116044862 &  5408.0001 & 1396 & MULTIPOLYGON (((-207485.7 4... & 12035.709\\\\\n",
       "\t3 & 36029017501 & 2.09 & 1.3121212 & 28.829 & 0.8766737 & 0.003523608 & 0.021141649 & 0.01973221 & 0.078928823 &  3441.7670 &  660 & MULTIPOLYGON (((-215285.5 4... &  4278.201\\\\\n",
       "\t4 & 36029017502 & 2.43 & 1.9789474 & 28.630 & 0.9750859 & 0.003865979 & 0.010309278 & 0.00000000 & 0.010738832 &   256.5629 &  950 & MULTIPOLYGON (((-215157.7 4... &  6447.511\\\\\n",
       "\t5 & 36029000110 & 2.73 & 1.2553191 & 20.791 & 0.7019095 & 0.018741160 & 0.262376238 & 0.00000000 & 0.016973126 &  3770.6634 & 1034 & MULTIPOLYGON (((-207344.1 4... &  7427.031\\\\\n",
       "\t6 & 36029005801 & 2.58 & 0.9292717 & 17.535 & 0.5062534 & 0.110386079 & 0.249320283 & 0.04323002 & 0.090810223 & 61713.5164 & 1428 & MULTIPOLYGON (((-209712.6 4... & 30433.742\\\\\n",
       "\\end{tabular}\n"
      ],
      "text/markdown": [
       "\n",
       "A sf: 6 × 13\n",
       "\n",
       "| <!--/--> | GEOID &lt;chr&gt; | HHSIZE &lt;dbl&gt; | HHVEHCNT &lt;dbl&gt; | income_k &lt;dbl&gt; | pct_white &lt;dbl&gt; | pct_black &lt;dbl&gt; | pct_hisp &lt;dbl&gt; | pct_asian &lt;dbl&gt; | pct_other &lt;dbl&gt; | HBRESDN &lt;dbl&gt; | num_HH &lt;dbl&gt; | geometry &lt;MULTIPOLYGON [m]&gt; | productions &lt;dbl&gt; |\n",
       "|---|---|---|---|---|---|---|---|---|---|---|---|---|---|\n",
       "| 1 | 36029017300 | 2.37 | 1.7742156 | 42.048 | 0.9828964 | 0.003364643 | 0.005888126 | 0.00364503 | 0.004205804 |  8638.4119 | 2932 | MULTIPOLYGON (((-197779.6 4... | 25961.364 |\n",
       "| 2 | 36029017400 | 3.13 | 1.1489971 | 19.423 | 0.4717327 | 0.257267109 | 0.136873426 | 0.01808194 | 0.116044862 |  5408.0001 | 1396 | MULTIPOLYGON (((-207485.7 4... | 12035.709 |\n",
       "| 3 | 36029017501 | 2.09 | 1.3121212 | 28.829 | 0.8766737 | 0.003523608 | 0.021141649 | 0.01973221 | 0.078928823 |  3441.7670 |  660 | MULTIPOLYGON (((-215285.5 4... |  4278.201 |\n",
       "| 4 | 36029017502 | 2.43 | 1.9789474 | 28.630 | 0.9750859 | 0.003865979 | 0.010309278 | 0.00000000 | 0.010738832 |   256.5629 |  950 | MULTIPOLYGON (((-215157.7 4... |  6447.511 |\n",
       "| 5 | 36029000110 | 2.73 | 1.2553191 | 20.791 | 0.7019095 | 0.018741160 | 0.262376238 | 0.00000000 | 0.016973126 |  3770.6634 | 1034 | MULTIPOLYGON (((-207344.1 4... |  7427.031 |\n",
       "| 6 | 36029005801 | 2.58 | 0.9292717 | 17.535 | 0.5062534 | 0.110386079 | 0.249320283 | 0.04323002 | 0.090810223 | 61713.5164 | 1428 | MULTIPOLYGON (((-209712.6 4... | 30433.742 |\n",
       "\n"
      ],
      "text/plain": [
       "  GEOID       HHSIZE HHVEHCNT  income_k pct_white pct_black   pct_hisp   \n",
       "1 36029017300 2.37   1.7742156 42.048   0.9828964 0.003364643 0.005888126\n",
       "2 36029017400 3.13   1.1489971 19.423   0.4717327 0.257267109 0.136873426\n",
       "3 36029017501 2.09   1.3121212 28.829   0.8766737 0.003523608 0.021141649\n",
       "4 36029017502 2.43   1.9789474 28.630   0.9750859 0.003865979 0.010309278\n",
       "5 36029000110 2.73   1.2553191 20.791   0.7019095 0.018741160 0.262376238\n",
       "6 36029005801 2.58   0.9292717 17.535   0.5062534 0.110386079 0.249320283\n",
       "  pct_asian  pct_other   HBRESDN    num_HH geometry                      \n",
       "1 0.00364503 0.004205804  8638.4119 2932   MULTIPOLYGON (((-197779.6 4...\n",
       "2 0.01808194 0.116044862  5408.0001 1396   MULTIPOLYGON (((-207485.7 4...\n",
       "3 0.01973221 0.078928823  3441.7670  660   MULTIPOLYGON (((-215285.5 4...\n",
       "4 0.00000000 0.010738832   256.5629  950   MULTIPOLYGON (((-215157.7 4...\n",
       "5 0.00000000 0.016973126  3770.6634 1034   MULTIPOLYGON (((-207344.1 4...\n",
       "6 0.04323002 0.090810223 61713.5164 1428   MULTIPOLYGON (((-209712.6 4...\n",
       "  productions\n",
       "1 25961.364  \n",
       "2 12035.709  \n",
       "3  4278.201  \n",
       "4  6447.511  \n",
       "5  7427.031  \n",
       "6 30433.742  "
      ]
     },
     "metadata": {},
     "output_type": "display_data"
    }
   ],
   "source": [
    "tracts <- tracts %>%\n",
    "  mutate(productions = num_HH*(model_results$coefficient[model_results$variable == \"(Intercept)\"] +\n",
    "                               model_results$coefficient[model_results$variable == \"HHSIZE\"] * HHSIZE +\n",
    "                               model_results$coefficient[model_results$variable == \"HHVEHCNT\"] * HHVEHCNT +\n",
    "                               model_results$coefficient[model_results$variable == \"income_k\"] * income_k +\n",
    "                               model_results$coefficient[model_results$variable == \"race_eth2.Non-Hispanic Black\"] * pct_black +\n",
    "                               model_results$coefficient[model_results$variable == \"race_eth3.Asian\"] * pct_asian +\n",
    "                               model_results$coefficient[model_results$variable == \"race_eth4.Hispanic\"] * pct_hisp +\n",
    "                               model_results$coefficient[model_results$variable == \"race_eth5.Other\"] * pct_other +\n",
    "                               model_results$coefficient[model_results$variable == \"HBRESDN\"] * HBRESDN))\n",
    "head(tracts)"
   ]
  },
  {
   "cell_type": "markdown",
   "metadata": {},
   "source": [
    "### Step 2: Estimate trip attractions\n",
    "We're not going to estimate our own trip attraction model like we did for the trip productions, since there just isn't a lot of good, publicly-available data that would allow us to do that. \n",
    "\n",
    "In 2012, TRB published a report called *Travel Demand Forecasting: Parameters and Techniques* (more commonly referenced by its number: NCHRP 716), which documents some common model parameters used in travel demand models in the United States. Table 4.4 of NCHRP 716 gives common coefficents for estimating trip attraction based on employment data, and we'll use those instead of estimating our own model.\n",
    "\n",
    "To estimate trip attractions using the NCHRP 716 coefficients, we will:\n",
    "1. Load zonal employment data\n",
    "2. Visualize zonal employment data\n",
    "3. Estimate zonal attractions\n",
    "\n",
    "#### Step 2.1: Load zonal employment data\n",
    "We need numbers in three categories: Basic, Retail, and Service. We can get these data from LEHD, using the lehdr package. \n",
    "\n",
    "For more information on LEHD variable names and file structures, refer to https://lehd.ces.census.gov/data/lodes/LODES7/LODESTechDoc7.4.pdf"
   ]
  },
  {
   "cell_type": "code",
   "execution_count": 17,
   "metadata": {},
   "outputs": [
    {
     "name": "stderr",
     "output_type": "stream",
     "text": [
      "Cached version of file found in C:/Users/cav223/Documents/GitHub/assignment-2-2/lodes_raw/ny_wac_S000_JT00_2017.csv.gz\n",
      "Reading now...\n",
      "\n",
      "Joining, by = \"GEOID\"\n",
      "\n"
     ]
    }
   ],
   "source": [
    "employment <- grab_lodes(state = \"ny\", \n",
    "                     year = 2017, \n",
    "                     lodes_type = \"wac\", \n",
    "                     job_type = \"JT00\", \n",
    "                     segment = \"S000\",\n",
    "                     agg_geo = \"tract\") %>%\n",
    "  mutate(county = substr(w_tract,1,5)) %>%\n",
    "  filter(county == \"36029\" |\n",
    "        county == \"36063\") %>%\n",
    "  rename(total_emp = C000) %>%\n",
    "  mutate(basic_emp = CNS01+CNS02+CNS03+CNS04+CNS05+CNS06+CNS08+CNS09) %>%\n",
    "  mutate(retail_emp = CNS07) %>%\n",
    "  mutate(service_emp = total_emp - basic_emp - retail_emp) %>%\n",
    "  rename(GEOID = w_tract) %>%\n",
    "  select(GEOID, total_emp, basic_emp, retail_emp, service_emp)\n",
    "\n",
    "tracts <- inner_join(tracts, employment) "
   ]
  },
  {
   "cell_type": "markdown",
   "metadata": {},
   "source": [
    "#### Step 2.2: Visualize zonal employment data\n",
    "Again, this step is basically optional - you can move on to estimating attractions without visualizing your input first, but the visualization step can be informative.\n",
    "\n",
    "I'm just going to map the variation in total employment using a chloropleth map, although you could certainly map each of the different employment types (perhaps with another dot density map!).\n",
    "\n",
    "I'm using a log scale here to make it easier to see the variation"
   ]
  },
  {
   "cell_type": "code",
   "execution_count": 18,
   "metadata": {},
   "outputs": [
    {
     "data": {
      "image/png": "[encoded data removed]",
      "text/plain": [
       "plot without title"
      ]
     },
     "metadata": {
      "image/png": {
       "height": 420,
       "width": 420
      },
      "text/plain": {
       "height": 420,
       "width": 420
      }
     },
     "output_type": "display_data"
    }
   ],
   "source": [
    "emp_breaks <- c(4, 40, 400, 4000, 40000)\n",
    "\n",
    "ggplot(tracts, aes(fill = total_emp)) + \n",
    "  geom_sf(color = NA) + \n",
    "  scale_fill_viridis_c(\"Number of employees\",\n",
    "                       trans = \"log\",\n",
    "                       breaks = emp_breaks,\n",
    "                       labels = prettyNum(emp_breaks, big.mark = \",\")) + \n",
    "  theme(axis.text=element_blank(),\n",
    "        axis.ticks=element_blank(),\n",
    "        panel.background = element_blank()) "
   ]
  },
  {
   "cell_type": "markdown",
   "metadata": {},
   "source": [
    "#### Step 2.3: Estimate zonal attractions\n",
    "If you refer to Table 4.4 of NCHRP 716 and add together:\n",
    "* Model 1 for Home-based work person trips\n",
    "* Model 3 for Home-Based Nonwork person trips\n",
    "* Model 1 for Nonhome Based person trips\n",
    "\n",
    "You'll get:\n",
    "\n",
    "Total person trips = 1.3(Households) + 2.4(Basic employment) + 14.3(Retail employment) + 6.1(Service employment)"
   ]
  },
  {
   "cell_type": "code",
   "execution_count": 20,
   "metadata": {},
   "outputs": [
    {
     "data": {
      "application/geo+json": {
       "features": [
        {
         "geometry": {
          "coordinates": [
           [
            [
             [
              -197779.5864,
              452961.6146
             ],
             [
              -197532.9137,
              453005.3948
             ],
             [
              -196927.8488,
              452959.6974
             ],
             [
              -196834.5785,
              452938.174
             ],
             [
              -196515.0547,
              452786.4024
             ],
             [
              -196306.3269,
              452664.5063
             ],
             [
              -195864.0108,
              452538.1075
             ],
             [
              -195715.3131,
              452554.1337
             ],
             [
              -194890.3797,
              452802.1986
             ],
             [
              -194359.8682,
              452934.2207
             ],
             [
              -194309.05,
              453390.8952
             ],
             [
              -194296.4449,
              453506.7674
             ],
             [
              -193105.0489,
              453275.917
             ],
             [
              -193130.948,
              452788.0384
             ],
             [
              -193225.9044,
              450713.4692
             ],
             [
              -193256.0947,
              450247.8587
             ],
             [
              -194063.8703,
              450294.5381
             ],
             [
              -194318.9512,
              450308.296
             ],
             [
              -194560.2899,
              450321.3755
             ],
             [
              -195300.6008,
              450361.1482
             ],
             [
              -196081.7955,
              451406.1654
             ],
             [
              -196331.077,
              451418.8195
             ],
             [
              -196602.1399,
              451433.6937
             ],
             [
              -197773.6133,
              451498.5967
             ],
             [
              -197787.2015,
              452076.4833
             ],
             [
              -197784.0409,
              452607.6331
             ],
             [
              -197779.5864,
              452961.6146
             ]
            ]
           ]
          ],
          "type": "MultiPolygon"
         },
         "properties": {
          "GEOID": "36029017300",
          "HBRESDN": 8638.4119,
          "HHSIZE": 2.37,
          "HHVEHCNT": 1.7742,
          "attractions": 15569.5,
          "basic_emp": 165,
          "income_k": 42.048,
          "num_HH": 2932,
          "pct_asian": 0.0036,
          "pct_black": 0.0034,
          "pct_hisp": 0.0059,
          "pct_other": 0.0042,
          "pct_white": 0.9829,
          "productions": 25961.3641,
          "retail_emp": 86,
          "service_emp": 1661,
          "total_emp": 1912
         },
         "type": "Feature"
        },
        {
         "geometry": {
          "coordinates": [
           [
            [
             [
              -207485.7243,
              452645.178
             ],
             [
              -207412.5982,
              452870.7677
             ],
             [
              -207335.0696,
              453109.9517
             ],
             [
              -207321.7757,
              453150.966
             ],
             [
              -207268.4053,
              453315.6287
             ],
             [
              -207217.1881,
              453473.6539
             ],
             [
              -206973.0917,
              453512.3674
             ],
             [
              -206805.1872,
              453288.7262
             ],
             [
              -206661.5536,
              453280.4957
             ],
             [
              -205965.3837,
              453242.0867
             ],
             [
              -205899.0894,
              453238.21
             ],
             [
              -205215.7334,
              453199.4263
             ],
             [
              -204887.0065,
              453155.4966
             ],
             [
              -204644.6484,
              453141.1007
             ],
             [
              -204567.5144,
              453126.4294
             ],
             [
              -204410.6359,
              452482.5974
             ],
             [
              -204722.0301,
              452543.6531
             ],
             [
              -204688.2125,
              452240.5779
             ],
             [
              -204763.8745,
              451014.7584
             ],
             [
              -204728.9057,
              450682.7734
             ],
             [
              -204740.4161,
              450543.7855
             ],
             [
              -204845.7905,
              450233.9618
             ],
             [
              -205019.5895,
              450156.2557
             ],
             [
              -205155.8847,
              450160.0557
             ],
             [
              -205498.5964,
              450201.251
             ],
             [
              -205684.206,
              450209.5023
             ],
             [
              -206805.2953,
              450291.8524
             ],
             [
              -207256.4947,
              451494.6238
             ],
             [
              -207495.5697,
              452255.3335
             ],
             [
              -207485.7243,
              452645.178
             ]
            ]
           ]
          ],
          "type": "MultiPolygon"
         },
         "properties": {
          "GEOID": "36029017400",
          "HBRESDN": 5408.0001,
          "HHSIZE": 3.13,
          "HHVEHCNT": 1.149,
          "attractions": 6340.3,
          "basic_emp": 979,
          "income_k": 19.423,
          "num_HH": 1396,
          "pct_asian": 0.0181,
          "pct_black": 0.2573,
          "pct_hisp": 0.1369,
          "pct_other": 0.116,
          "pct_white": 0.4717,
          "productions": 12035.709,
          "retail_emp": 34,
          "service_emp": 277,
          "total_emp": 1290
         },
         "type": "Feature"
        },
        {
         "geometry": {
          "coordinates": [
           [
            [
             [
              -215285.5473,
              416722.7215
             ],
             [
              -214067.1207,
              416694.2806
             ],
             [
              -214050.0539,
              416279.9629
             ],
             [
              -212845.7382,
              416199.7883
             ],
             [
              -212915.6841,
              414924.754
             ],
             [
              -213062.7678,
              414717.9734
             ],
             [
              -213337.5671,
              414655.4425
             ],
             [
              -213264.2849,
              414457.4422
             ],
             [
              -212969.6499,
              414098.3976
             ],
             [
              -213025.2972,
              412921.6576
             ],
             [
              -213521.4173,
              412686.0695
             ],
             [
              -213736.8866,
              412774.0746
             ],
             [
              -213888.3808,
              412670.3604
             ],
             [
              -214112.1663,
              412911.6586
             ],
             [
              -214257.3089,
              412910.5579
             ],
             [
              -214292.0481,
              412172.0915
             ],
             [
              -214366.1448,
              412214.2894
             ],
             [
              -214766.0274,
              412633.9347
             ],
             [
              -215019.2341,
              413108.1962
             ],
             [
              -215212.5281,
              413186.0642
             ],
             [
              -215464.8703,
              413194.8446
             ],
             [
              -215462.5865,
              413213.2183
             ],
             [
              -215425.2273,
              413764.8388
             ],
             [
              -215427.5445,
              414008.2733
             ],
             [
              -215390.3188,
              414671.9768
             ],
             [
              -215386.5323,
              414723.6938
             ],
             [
              -215025.4899,
              414698.9598
             ],
             [
              -214864.5918,
              414176.8313
             ],
             [
              -214179.7769,
              414085.4987
             ],
             [
              -214176.8155,
              414135.8102
             ],
             [
              -213881.6117,
              414214.1784
             ],
             [
              -213279.598,
              414731.2907
             ],
             [
              -213162.7586,
              414984.0952
             ],
             [
              -213288.424,
              414979.2895
             ],
             [
              -213447.203,
              415316.2192
             ],
             [
              -213627.1383,
              415560.3461
             ],
             [
              -213812.4504,
              415561.0072
             ],
             [
              -213804.0959,
              415766.5574
             ],
             [
              -214008.4135,
              415788.3822
             ],
             [
              -214038.5858,
              415966.5374
             ],
             [
              -214213.8714,
              415982.1712
             ],
             [
              -214213.5275,
              416191.9295
             ],
             [
              -214321.2229,
              415989.9075
             ],
             [
              -215117.8644,
              416037.7895
             ],
             [
              -215312.5944,
              415990.8579
             ],
             [
              -215285.5473,
              416722.7215
             ]
            ]
           ]
          ],
          "type": "MultiPolygon"
         },
         "properties": {
          "GEOID": "36029017501",
          "HBRESDN": 3441.767,
          "HHSIZE": 2.09,
          "HHVEHCNT": 1.3121,
          "attractions": 4197.1,
          "basic_emp": 20,
          "income_k": 28.829,
          "num_HH": 660,
          "pct_asian": 0.0197,
          "pct_black": 0.0035,
          "pct_hisp": 0.0211,
          "pct_other": 0.0789,
          "pct_white": 0.8767,
          "productions": 4278.201,
          "retail_emp": 109,
          "service_emp": 284,
          "total_emp": 413
         },
         "type": "Feature"
        },
        {
         "geometry": {
          "coordinates": [
           [
            [
             [
              -215157.6641,
              419107.5947
             ],
             [
              -215099.9299,
              420184.6624
             ],
             [
              -214021.2153,
              420127.5173
             ],
             [
              -214014.4342,
              420280.5683
             ],
             [
              -213417.8975,
              420250.6828
             ],
             [
              -212796.0708,
              420219.1941
             ],
             [
              -212149.631,
              420188.9294
             ],
             [
              -211907.9904,
              420177.5664
             ],
             [
              -210947.7305,
              420096.5436
             ],
             [
              -210850.5915,
              420114.0018
             ],
             [
              -210390.1594,
              420079.7488
             ],
             [
              -209709.1251,
              420033.6591
             ],
             [
              -209244.5208,
              420002.0516
             ],
             [
              -208335.6524,
              419963.0383
             ],
             [
              -207877.3922,
              419918.7052
             ],
             [
              -206902.3247,
              419879.1448
             ],
             [
              -206637.2298,
              419869.1006
             ],
             [
              -205475.395,
              419825.0601
             ],
             [
              -205437.1425,
              419835.2453
             ],
             [
              -205296.4656,
              419939.3309
             ],
             [
              -201904.5703,
              419761.1816
             ],
             [
              -201906.9949,
              419713.2978
             ],
             [
              -201970.6999,
              418477.8197
             ],
             [
              -201644.5,
              418455.1877
             ],
             [
              -201846.0093,
              412664.8855
             ],
             [
              -201911.3065,
              411778.6851
             ],
             [
              -201822.3597,
              411774.6385
             ],
             [
              -201763.418,
              411663.0651
             ],
             [
              -201398.9506,
              411604.6883
             ],
             [
              -201241.5865,
              411487.0435
             ],
             [
              -201280.9476,
              411257.5781
             ],
             [
              -201541.2733,
              411168.6807
             ],
             [
              -201839.2503,
              411137.941
             ],
             [
              -202125.1701,
              411040.666
             ],
             [
              -202318.2071,
              411111.7943
             ],
             [
              -202604.8183,
              411330.3445
             ],
             [
              -202626.4534,
              411483.032
             ],
             [
              -202992.8295,
              411722.0118
             ],
             [
              -203218.9965,
              411931.4041
             ],
             [
              -203424.0714,
              411941.8041
             ],
             [
              -203621.4335,
              411886.4356
             ],
             [
              -203881.0641,
              411723.963
             ],
             [
              -204018.8434,
              411563.9948
             ],
             [
              -204171.6904,
              411516.6261
             ],
             [
              -204478.1728,
              411573.5354
             ],
             [
              -204760.2819,
              411286.1452
             ],
             [
              -205521.6985,
              410719.8883
             ],
             [
              -205851.4553,
              410870.9404
             ],
             [
              -205926.6343,
              410828.3301
             ],
             [
              -206011.7283,
              410468.8793
             ],
             [
              -206167.9534,
              410525.7603
             ],
             [
              -206375.3801,
              410563.7644
             ],
             [
              -206674.7034,
              410285.7844
             ],
             [
              -206767.0246,
              410000.3369
             ],
             [
              -206907.4181,
              409908.9424
             ],
             [
              -207087.123,
              409905.4461
             ],
             [
              -207352.8219,
              410155.767
             ],
             [
              -207599.5842,
              410166.9728
             ],
             [
              -207804.0545,
              409983.0853
             ],
             [
              -207948.4378,
              409952.5123
             ],
             [
              -208224.561,
              410054.0272
             ],
             [
              -208387.9668,
              410037.0281
             ],
             [
              -208589.3435,
              409913.8226
             ],
             [
              -209055.8453,
              409891.1586
             ],
             [
              -209253.7747,
              409971.3111
             ],
             [
              -209376.8387,
              409944.7923
             ],
             [
              -209506.2627,
              409724.5531
             ],
             [
              -209683.4386,
              409687.2393
             ],
             [
              -209987.9443,
              409895.7814
             ],
             [
              -210173.0995,
              409956.3639
             ],
             [
              -210314.9009,
              409838.8155
             ],
             [
              -210458.4427,
              409805.7984
             ],
             [
              -210627.2865,
              409596.3028
             ],
             [
              -210783.5022,
              409629.4487
             ],
             [
              -210946.7544,
              410038.2616
             ],
             [
              -211066.23,
              410054.1401
             ],
             [
              -211143.1289,
              410015.9034
             ],
             [
              -211378.9058,
              409744.3891
             ],
             [
              -211508.5396,
              409734.7338
             ],
             [
              -211683.3098,
              409931.8396
             ],
             [
              -211796.4847,
              410267.8995
             ],
             [
              -211861.2248,
              410746.8247
             ],
             [
              -212002.0569,
              410873.8927
             ],
             [
              -212434.6966,
              410573.9836
             ],
             [
              -212558.035,
              410602.6781
             ],
             [
              -212936.9727,
              410788.2757
             ],
             [
              -213044.4903,
              410721.464
             ],
             [
              -213082.9337,
              410571.0687
             ],
             [
              -213225.1913,
              410387.0915
             ],
             [
              -213512.5253,
              410220.2605
             ],
             [
              -213684.9197,
              410230.8118
             ],
             [
              -213802.3559,
              410442.2553
             ],
             [
              -213713.2911,
              410884.1108
             ],
             [
              -213482.1475,
              410981.5613
             ],
             [
              -213466.0002,
              411405.052
             ],
             [
              -214023.1588,
              412040.5056
             ],
             [
              -214292.0481,
              412172.0915
             ],
             [
              -214257.3089,
              412910.5579
             ],
             [
              -214112.1663,
              412911.6586
             ],
             [
              -213888.3808,
              412670.3604
             ],
             [
              -213736.8866,
              412774.0746
             ],
             [
              -213521.4173,
              412686.0695
             ],
             [
              -213025.2972,
              412921.6576
             ],
             [
              -212969.6499,
              414098.3976
             ],
             [
              -213264.2849,
              414457.4422
             ],
             [
              -213337.5671,
              414655.4425
             ],
             [
              -213062.7678,
              414717.9734
             ],
             [
              -212915.6841,
              414924.754
             ],
             [
              -212845.7382,
              416199.7883
             ],
             [
              -214050.0539,
              416279.9629
             ],
             [
              -214067.1207,
              416694.2806
             ],
             [
              -215285.5473,
              416722.7215
             ],
             [
              -215157.6641,
              419107.5947
             ]
            ]
           ]
          ],
          "type": "MultiPolygon"
         },
         "properties": {
          "GEOID": "36029017502",
          "HBRESDN": 256.5629,
          "HHSIZE": 2.43,
          "HHVEHCNT": 1.9789,
          "attractions": 6540.4,
          "basic_emp": 159,
          "income_k": 28.63,
          "num_HH": 950,
          "pct_asian": 0,
          "pct_black": 0.0039,
          "pct_hisp": 0.0103,
          "pct_other": 0.0107,
          "pct_white": 0.9751,
          "productions": 6447.5106,
          "retail_emp": 47,
          "service_emp": 697,
          "total_emp": 903
         },
         "type": "Feature"
        },
        {
         "geometry": {
          "coordinates": [
           [
            [
             [
              -207344.0556,
              455526.5007
             ],
             [
              -206765.7983,
              455710.9067
             ],
             [
              -206874.0266,
              455858.565
             ],
             [
              -206714.7597,
              455833.5849
             ],
             [
              -206486.5455,
              455696.7486
             ],
             [
              -206087.4078,
              455640.9629
             ],
             [
              -205821.0795,
              455723.8636
             ],
             [
              -205568.5823,
              455972.0279
             ],
             [
              -205345.9776,
              456335.0395
             ],
             [
              -205220.4605,
              456556.2503
             ],
             [
              -205051.9111,
              456425.7774
             ],
             [
              -204851.8039,
              456579.3072
             ],
             [
              -204739.1925,
              456641.4449
             ],
             [
              -204488.2265,
              456542.1561
             ],
             [
              -204112.7748,
              456296.5438
             ],
             [
              -204280.6329,
              456137.209
             ],
             [
              -203957.8904,
              455973.5302
             ],
             [
              -204073.1067,
              455665.2133
             ],
             [
              -204102.5919,
              455199.5307
             ],
             [
              -204112.8262,
              455034.2983
             ],
             [
              -204126.4907,
              454792.9354
             ],
             [
              -204139.4115,
              454572.3655
             ],
             [
              -203436.3908,
              454528.3861
             ],
             [
              -203439.218,
              454478.1804
             ],
             [
              -203469.8234,
              453984.9319
             ],
             [
              -203472.2945,
              453940.0549
             ],
             [
              -203488.1591,
              453669.7323
             ],
             [
              -203504.6735,
              453401.114
             ],
             [
              -203525.0138,
              453093.147
             ],
             [
              -203531.1665,
              453010.139
             ],
             [
              -203534.7222,
              452948.9426
             ],
             [
              -203561.7773,
              452519.8992
             ],
             [
              -203827.1735,
              452533.1002
             ],
             [
              -203878.8482,
              452537.5408
             ],
             [
              -204289.2714,
              452544.8547
             ],
             [
              -204410.6359,
              452482.5974
             ],
             [
              -204567.5144,
              453126.4294
             ],
             [
              -204644.6484,
              453141.1007
             ],
             [
              -204887.0065,
              453155.4966
             ],
             [
              -205215.7334,
              453199.4263
             ],
             [
              -205899.0894,
              453238.21
             ],
             [
              -205965.3837,
              453242.0867
             ],
             [
              -206661.5536,
              453280.4957
             ],
             [
              -206626.2735,
              453383.7179
             ],
             [
              -206638.002,
              453565.5271
             ],
             [
              -206494.8984,
              453588.2348
             ],
             [
              -206515.8462,
              453911.6056
             ],
             [
              -206378.0474,
              454278.2136
             ],
             [
              -206816.2797,
              455526.3713
             ],
             [
              -207344.0556,
              455526.5007
             ]
            ]
           ]
          ],
          "type": "MultiPolygon"
         },
         "properties": {
          "GEOID": "36029000110",
          "HBRESDN": 3770.6634,
          "HHSIZE": 2.73,
          "HHVEHCNT": 1.2553,
          "attractions": 6249.4,
          "basic_emp": 751,
          "income_k": 20.791,
          "num_HH": 1034,
          "pct_asian": 0,
          "pct_black": 0.0187,
          "pct_hisp": 0.2624,
          "pct_other": 0.017,
          "pct_white": 0.7019,
          "productions": 7427.031,
          "retail_emp": 60,
          "service_emp": 368,
          "total_emp": 1179
         },
         "type": "Feature"
        },
        {
         "geometry": {
          "coordinates": [
           [
            [
             [
              -209712.6006,
              467576.2342
             ],
             [
              -209558.8676,
              467714.4411
             ],
             [
              -208863.2138,
              468344.2817
             ],
             [
              -208709.1261,
              468172.9898
             ],
             [
              -208385.827,
              467740.6118
             ],
             [
              -208459.4255,
              467408.5675
             ],
             [
              -208779.25,
              467659.2792
             ],
             [
              -209277.6643,
              467403.4379
             ],
             [
              -209352.3987,
              467365.5811
             ],
             [
              -209608.2485,
              467235.4055
             ],
             [
              -209715.865,
              467573.2862
             ],
             [
              -209712.6006,
              467576.2342
             ]
            ]
           ]
          ],
          "type": "MultiPolygon"
         },
         "properties": {
          "GEOID": "36029005801",
          "HBRESDN": 61713.5164,
          "HHSIZE": 2.58,
          "HHVEHCNT": 0.9293,
          "attractions": 2518.7,
          "basic_emp": 65,
          "income_k": 17.535,
          "num_HH": 1428,
          "pct_asian": 0.0432,
          "pct_black": 0.1104,
          "pct_hisp": 0.2493,
          "pct_other": 0.0908,
          "pct_white": 0.5063,
          "productions": 30433.7422,
          "retail_emp": 0,
          "service_emp": 83,
          "total_emp": 148
         },
         "type": "Feature"
        }
       ],
       "type": "FeatureCollection"
      },
      "text/html": [
       "<table>\n",
       "<caption>A sf: 6 × 18</caption>\n",
       "<thead>\n",
       "\t<tr><th></th><th scope=col>GEOID</th><th scope=col>HHSIZE</th><th scope=col>HHVEHCNT</th><th scope=col>income_k</th><th scope=col>pct_white</th><th scope=col>pct_black</th><th scope=col>pct_hisp</th><th scope=col>pct_asian</th><th scope=col>pct_other</th><th scope=col>HBRESDN</th><th scope=col>num_HH</th><th scope=col>productions</th><th scope=col>total_emp</th><th scope=col>basic_emp</th><th scope=col>retail_emp</th><th scope=col>service_emp</th><th scope=col>geometry</th><th scope=col>attractions</th></tr>\n",
       "\t<tr><th></th><th scope=col>&lt;chr&gt;</th><th scope=col>&lt;dbl&gt;</th><th scope=col>&lt;dbl&gt;</th><th scope=col>&lt;dbl&gt;</th><th scope=col>&lt;dbl&gt;</th><th scope=col>&lt;dbl&gt;</th><th scope=col>&lt;dbl&gt;</th><th scope=col>&lt;dbl&gt;</th><th scope=col>&lt;dbl&gt;</th><th scope=col>&lt;dbl&gt;</th><th scope=col>&lt;dbl&gt;</th><th scope=col>&lt;dbl&gt;</th><th scope=col>&lt;dbl&gt;</th><th scope=col>&lt;dbl&gt;</th><th scope=col>&lt;dbl&gt;</th><th scope=col>&lt;dbl&gt;</th><th scope=col>&lt;MULTIPOLYGON [m]&gt;</th><th scope=col>&lt;dbl&gt;</th></tr>\n",
       "</thead>\n",
       "<tbody>\n",
       "\t<tr><th scope=row>1</th><td>36029017300</td><td>2.37</td><td>1.7742156</td><td>42.048</td><td>0.9828964</td><td>0.003364643</td><td>0.005888126</td><td>0.00364503</td><td>0.004205804</td><td> 8638.4119</td><td>2932</td><td>25961.364</td><td>1912</td><td>165</td><td> 86</td><td>1661</td><td>MULTIPOLYGON (((-197779.6 4...</td><td>15569.5</td></tr>\n",
       "\t<tr><th scope=row>2</th><td>36029017400</td><td>3.13</td><td>1.1489971</td><td>19.423</td><td>0.4717327</td><td>0.257267109</td><td>0.136873426</td><td>0.01808194</td><td>0.116044862</td><td> 5408.0001</td><td>1396</td><td>12035.709</td><td>1290</td><td>979</td><td> 34</td><td> 277</td><td>MULTIPOLYGON (((-207485.7 4...</td><td> 6340.3</td></tr>\n",
       "\t<tr><th scope=row>3</th><td>36029017501</td><td>2.09</td><td>1.3121212</td><td>28.829</td><td>0.8766737</td><td>0.003523608</td><td>0.021141649</td><td>0.01973221</td><td>0.078928823</td><td> 3441.7670</td><td> 660</td><td> 4278.201</td><td> 413</td><td> 20</td><td>109</td><td> 284</td><td>MULTIPOLYGON (((-215285.5 4...</td><td> 4197.1</td></tr>\n",
       "\t<tr><th scope=row>4</th><td>36029017502</td><td>2.43</td><td>1.9789474</td><td>28.630</td><td>0.9750859</td><td>0.003865979</td><td>0.010309278</td><td>0.00000000</td><td>0.010738832</td><td>  256.5629</td><td> 950</td><td> 6447.511</td><td> 903</td><td>159</td><td> 47</td><td> 697</td><td>MULTIPOLYGON (((-215157.7 4...</td><td> 6540.4</td></tr>\n",
       "\t<tr><th scope=row>5</th><td>36029000110</td><td>2.73</td><td>1.2553191</td><td>20.791</td><td>0.7019095</td><td>0.018741160</td><td>0.262376238</td><td>0.00000000</td><td>0.016973126</td><td> 3770.6634</td><td>1034</td><td> 7427.031</td><td>1179</td><td>751</td><td> 60</td><td> 368</td><td>MULTIPOLYGON (((-207344.1 4...</td><td> 6249.4</td></tr>\n",
       "\t<tr><th scope=row>6</th><td>36029005801</td><td>2.58</td><td>0.9292717</td><td>17.535</td><td>0.5062534</td><td>0.110386079</td><td>0.249320283</td><td>0.04323002</td><td>0.090810223</td><td>61713.5164</td><td>1428</td><td>30433.742</td><td> 148</td><td> 65</td><td>  0</td><td>  83</td><td>MULTIPOLYGON (((-209712.6 4...</td><td> 2518.7</td></tr>\n",
       "</tbody>\n",
       "</table>\n"
      ],
      "text/latex": [
       "A sf: 6 × 18\n",
       "\\begin{tabular}{r|llllllllllllllllll}\n",
       "  & GEOID & HHSIZE & HHVEHCNT & income\\_k & pct\\_white & pct\\_black & pct\\_hisp & pct\\_asian & pct\\_other & HBRESDN & num\\_HH & productions & total\\_emp & basic\\_emp & retail\\_emp & service\\_emp & geometry & attractions\\\\\n",
       "  & <chr> & <dbl> & <dbl> & <dbl> & <dbl> & <dbl> & <dbl> & <dbl> & <dbl> & <dbl> & <dbl> & <dbl> & <dbl> & <dbl> & <dbl> & <dbl> & <MULTIPOLYGON {[}m{]}> & <dbl>\\\\\n",
       "\\hline\n",
       "\t1 & 36029017300 & 2.37 & 1.7742156 & 42.048 & 0.9828964 & 0.003364643 & 0.005888126 & 0.00364503 & 0.004205804 &  8638.4119 & 2932 & 25961.364 & 1912 & 165 &  86 & 1661 & MULTIPOLYGON (((-197779.6 4... & 15569.5\\\\\n",
       "\t2 & 36029017400 & 3.13 & 1.1489971 & 19.423 & 0.4717327 & 0.257267109 & 0.136873426 & 0.01808194 & 0.116044862 &  5408.0001 & 1396 & 12035.709 & 1290 & 979 &  34 &  277 & MULTIPOLYGON (((-207485.7 4... &  6340.3\\\\\n",
       "\t3 & 36029017501 & 2.09 & 1.3121212 & 28.829 & 0.8766737 & 0.003523608 & 0.021141649 & 0.01973221 & 0.078928823 &  3441.7670 &  660 &  4278.201 &  413 &  20 & 109 &  284 & MULTIPOLYGON (((-215285.5 4... &  4197.1\\\\\n",
       "\t4 & 36029017502 & 2.43 & 1.9789474 & 28.630 & 0.9750859 & 0.003865979 & 0.010309278 & 0.00000000 & 0.010738832 &   256.5629 &  950 &  6447.511 &  903 & 159 &  47 &  697 & MULTIPOLYGON (((-215157.7 4... &  6540.4\\\\\n",
       "\t5 & 36029000110 & 2.73 & 1.2553191 & 20.791 & 0.7019095 & 0.018741160 & 0.262376238 & 0.00000000 & 0.016973126 &  3770.6634 & 1034 &  7427.031 & 1179 & 751 &  60 &  368 & MULTIPOLYGON (((-207344.1 4... &  6249.4\\\\\n",
       "\t6 & 36029005801 & 2.58 & 0.9292717 & 17.535 & 0.5062534 & 0.110386079 & 0.249320283 & 0.04323002 & 0.090810223 & 61713.5164 & 1428 & 30433.742 &  148 &  65 &   0 &   83 & MULTIPOLYGON (((-209712.6 4... &  2518.7\\\\\n",
       "\\end{tabular}\n"
      ],
      "text/markdown": [
       "\n",
       "A sf: 6 × 18\n",
       "\n",
       "| <!--/--> | GEOID &lt;chr&gt; | HHSIZE &lt;dbl&gt; | HHVEHCNT &lt;dbl&gt; | income_k &lt;dbl&gt; | pct_white &lt;dbl&gt; | pct_black &lt;dbl&gt; | pct_hisp &lt;dbl&gt; | pct_asian &lt;dbl&gt; | pct_other &lt;dbl&gt; | HBRESDN &lt;dbl&gt; | num_HH &lt;dbl&gt; | productions &lt;dbl&gt; | total_emp &lt;dbl&gt; | basic_emp &lt;dbl&gt; | retail_emp &lt;dbl&gt; | service_emp &lt;dbl&gt; | geometry &lt;MULTIPOLYGON [m]&gt; | attractions &lt;dbl&gt; |\n",
       "|---|---|---|---|---|---|---|---|---|---|---|---|---|---|---|---|---|---|---|\n",
       "| 1 | 36029017300 | 2.37 | 1.7742156 | 42.048 | 0.9828964 | 0.003364643 | 0.005888126 | 0.00364503 | 0.004205804 |  8638.4119 | 2932 | 25961.364 | 1912 | 165 |  86 | 1661 | MULTIPOLYGON (((-197779.6 4... | 15569.5 |\n",
       "| 2 | 36029017400 | 3.13 | 1.1489971 | 19.423 | 0.4717327 | 0.257267109 | 0.136873426 | 0.01808194 | 0.116044862 |  5408.0001 | 1396 | 12035.709 | 1290 | 979 |  34 |  277 | MULTIPOLYGON (((-207485.7 4... |  6340.3 |\n",
       "| 3 | 36029017501 | 2.09 | 1.3121212 | 28.829 | 0.8766737 | 0.003523608 | 0.021141649 | 0.01973221 | 0.078928823 |  3441.7670 |  660 |  4278.201 |  413 |  20 | 109 |  284 | MULTIPOLYGON (((-215285.5 4... |  4197.1 |\n",
       "| 4 | 36029017502 | 2.43 | 1.9789474 | 28.630 | 0.9750859 | 0.003865979 | 0.010309278 | 0.00000000 | 0.010738832 |   256.5629 |  950 |  6447.511 |  903 | 159 |  47 |  697 | MULTIPOLYGON (((-215157.7 4... |  6540.4 |\n",
       "| 5 | 36029000110 | 2.73 | 1.2553191 | 20.791 | 0.7019095 | 0.018741160 | 0.262376238 | 0.00000000 | 0.016973126 |  3770.6634 | 1034 |  7427.031 | 1179 | 751 |  60 |  368 | MULTIPOLYGON (((-207344.1 4... |  6249.4 |\n",
       "| 6 | 36029005801 | 2.58 | 0.9292717 | 17.535 | 0.5062534 | 0.110386079 | 0.249320283 | 0.04323002 | 0.090810223 | 61713.5164 | 1428 | 30433.742 |  148 |  65 |   0 |   83 | MULTIPOLYGON (((-209712.6 4... |  2518.7 |\n",
       "\n"
      ],
      "text/plain": [
       "  GEOID       HHSIZE HHVEHCNT  income_k pct_white pct_black   pct_hisp   \n",
       "1 36029017300 2.37   1.7742156 42.048   0.9828964 0.003364643 0.005888126\n",
       "2 36029017400 3.13   1.1489971 19.423   0.4717327 0.257267109 0.136873426\n",
       "3 36029017501 2.09   1.3121212 28.829   0.8766737 0.003523608 0.021141649\n",
       "4 36029017502 2.43   1.9789474 28.630   0.9750859 0.003865979 0.010309278\n",
       "5 36029000110 2.73   1.2553191 20.791   0.7019095 0.018741160 0.262376238\n",
       "6 36029005801 2.58   0.9292717 17.535   0.5062534 0.110386079 0.249320283\n",
       "  pct_asian  pct_other   HBRESDN    num_HH productions total_emp basic_emp\n",
       "1 0.00364503 0.004205804  8638.4119 2932   25961.364   1912      165      \n",
       "2 0.01808194 0.116044862  5408.0001 1396   12035.709   1290      979      \n",
       "3 0.01973221 0.078928823  3441.7670  660    4278.201    413       20      \n",
       "4 0.00000000 0.010738832   256.5629  950    6447.511    903      159      \n",
       "5 0.00000000 0.016973126  3770.6634 1034    7427.031   1179      751      \n",
       "6 0.04323002 0.090810223 61713.5164 1428   30433.742    148       65      \n",
       "  retail_emp service_emp geometry                       attractions\n",
       "1  86        1661        MULTIPOLYGON (((-197779.6 4... 15569.5    \n",
       "2  34         277        MULTIPOLYGON (((-207485.7 4...  6340.3    \n",
       "3 109         284        MULTIPOLYGON (((-215285.5 4...  4197.1    \n",
       "4  47         697        MULTIPOLYGON (((-215157.7 4...  6540.4    \n",
       "5  60         368        MULTIPOLYGON (((-207344.1 4...  6249.4    \n",
       "6   0          83        MULTIPOLYGON (((-209712.6 4...  2518.7    "
      ]
     },
     "metadata": {},
     "output_type": "display_data"
    },
    {
     "data": {
      "text/html": [
       "<span style=white-space:pre-wrap>'The study area has  5,611,293  productions and  3,982,718  attractions.'</span>"
      ],
      "text/latex": [
       "'The study area has  5,611,293  productions and  3,982,718  attractions.'"
      ],
      "text/markdown": [
       "<span style=white-space:pre-wrap>'The study area has  5,611,293  productions and  3,982,718  attractions.'</span>"
      ],
      "text/plain": [
       "[1] \"The study area has  5,611,293  productions and  3,982,718  attractions.\""
      ]
     },
     "metadata": {},
     "output_type": "display_data"
    }
   ],
   "source": [
    "tracts <- tracts %>%\n",
    "  mutate(attractions = (1.3*num_HH) +\n",
    "                       (2.4*basic_emp) +\n",
    "                      (14.3*retail_emp) +\n",
    "                       (6.1*service_emp)) \n",
    "head(tracts)\n",
    "\n",
    "paste(\"The study area has \", prettyNum(sum(tracts$productions, na.rm = TRUE), \n",
    "                                       big.mark = \",\", scientific = FALSE),\n",
    "      \" productions and \",\n",
    "     prettyNum(sum(tracts$attractions, na.rm = TRUE), \n",
    "                                       big.mark = \",\", scientific = FALSE),\n",
    "      \" attractions.\")"
   ]
  },
  {
   "cell_type": "markdown",
   "metadata": {},
   "source": [
    "### Step 3: Balance productions and attractions\n",
    "Each trip in the model has a production and an attraction, so these two numbers should be the same. But since we estimated them with two completely different models, they won't match unless our models are perfect (which would be bad news since it would probably imply that we're living in a simulated reality, and a simple one at that). \n",
    "\n",
    "Trip production models are usually based on better data than trip attraction models, so we'll assume that the total number of trips actually matches the total number of trip productions, and we'll adjust the trip attractions proportionately so that the total is equal to the total number of productions."
   ]
  },
  {
   "cell_type": "code",
   "execution_count": 21,
   "metadata": {},
   "outputs": [
    {
     "data": {
      "text/html": [
       "<span style=white-space:pre-wrap>'The study area has  5,611,293  productions and  5,611,293  attractions (balanced).'</span>"
      ],
      "text/latex": [
       "'The study area has  5,611,293  productions and  5,611,293  attractions (balanced).'"
      ],
      "text/markdown": [
       "<span style=white-space:pre-wrap>'The study area has  5,611,293  productions and  5,611,293  attractions (balanced).'</span>"
      ],
      "text/plain": [
       "[1] \"The study area has  5,611,293  productions and  5,611,293  attractions (balanced).\""
      ]
     },
     "metadata": {},
     "output_type": "display_data"
    }
   ],
   "source": [
    "tracts <- tracts %>%\n",
    "  mutate(bal_attr = (attractions/sum(attractions, na.rm = TRUE)*\n",
    "                     sum(productions, na.rm = TRUE)))\n",
    "\n",
    "paste(\"The study area has \", prettyNum(sum(tracts$productions, na.rm = TRUE), \n",
    "                                       big.mark = \",\", digits = 2),\n",
    "      \" productions and \",\n",
    "     prettyNum(sum(tracts$bal_attr, na.rm = TRUE), \n",
    "                                       big.mark = \",\", digits = 2),\n",
    "      \" attractions (balanced).\")"
   ]
  },
  {
   "cell_type": "code",
   "execution_count": 22,
   "metadata": {},
   "outputs": [
    {
     "data": {
      "application/geo+json": {
       "features": [
        {
         "geometry": {
          "coordinates": [
           [
            [
             [
              -197779.5864,
              452961.6146
             ],
             [
              -197532.9137,
              453005.3948
             ],
             [
              -196927.8488,
              452959.6974
             ],
             [
              -196834.5785,
              452938.174
             ],
             [
              -196515.0547,
              452786.4024
             ],
             [
              -196306.3269,
              452664.5063
             ],
             [
              -195864.0108,
              452538.1075
             ],
             [
              -195715.3131,
              452554.1337
             ],
             [
              -194890.3797,
              452802.1986
             ],
             [
              -194359.8682,
              452934.2207
             ],
             [
              -194309.05,
              453390.8952
             ],
             [
              -194296.4449,
              453506.7674
             ],
             [
              -193105.0489,
              453275.917
             ],
             [
              -193130.948,
              452788.0384
             ],
             [
              -193225.9044,
              450713.4692
             ],
             [
              -193256.0947,
              450247.8587
             ],
             [
              -194063.8703,
              450294.5381
             ],
             [
              -194318.9512,
              450308.296
             ],
             [
              -194560.2899,
              450321.3755
             ],
             [
              -195300.6008,
              450361.1482
             ],
             [
              -196081.7955,
              451406.1654
             ],
             [
              -196331.077,
              451418.8195
             ],
             [
              -196602.1399,
              451433.6937
             ],
             [
              -197773.6133,
              451498.5967
             ],
             [
              -197787.2015,
              452076.4833
             ],
             [
              -197784.0409,
              452607.6331
             ],
             [
              -197779.5864,
              452961.6146
             ]
            ]
           ]
          ],
          "type": "MultiPolygon"
         },
         "properties": {
          "GEOID": "36029017300",
          "attractions": 21936.0286,
          "productions": 25961.3641
         },
         "type": "Feature"
        },
        {
         "geometry": {
          "coordinates": [
           [
            [
             [
              -207485.7243,
              452645.178
             ],
             [
              -207412.5982,
              452870.7677
             ],
             [
              -207335.0696,
              453109.9517
             ],
             [
              -207321.7757,
              453150.966
             ],
             [
              -207268.4053,
              453315.6287
             ],
             [
              -207217.1881,
              453473.6539
             ],
             [
              -206973.0917,
              453512.3674
             ],
             [
              -206805.1872,
              453288.7262
             ],
             [
              -206661.5536,
              453280.4957
             ],
             [
              -205965.3837,
              453242.0867
             ],
             [
              -205899.0894,
              453238.21
             ],
             [
              -205215.7334,
              453199.4263
             ],
             [
              -204887.0065,
              453155.4966
             ],
             [
              -204644.6484,
              453141.1007
             ],
             [
              -204567.5144,
              453126.4294
             ],
             [
              -204410.6359,
              452482.5974
             ],
             [
              -204722.0301,
              452543.6531
             ],
             [
              -204688.2125,
              452240.5779
             ],
             [
              -204763.8745,
              451014.7584
             ],
             [
              -204728.9057,
              450682.7734
             ],
             [
              -204740.4161,
              450543.7855
             ],
             [
              -204845.7905,
              450233.9618
             ],
             [
              -205019.5895,
              450156.2557
             ],
             [
              -205155.8847,
              450160.0557
             ],
             [
              -205498.5964,
              450201.251
             ],
             [
              -205684.206,
              450209.5023
             ],
             [
              -206805.2953,
              450291.8524
             ],
             [
              -207256.4947,
              451494.6238
             ],
             [
              -207495.5697,
              452255.3335
             ],
             [
              -207485.7243,
              452645.178
             ]
            ]
           ]
          ],
          "type": "MultiPolygon"
         },
         "properties": {
          "GEOID": "36029017400",
          "attractions": 8932.9138,
          "productions": 12035.709
         },
         "type": "Feature"
        },
        {
         "geometry": {
          "coordinates": [
           [
            [
             [
              -215285.5473,
              416722.7215
             ],
             [
              -214067.1207,
              416694.2806
             ],
             [
              -214050.0539,
              416279.9629
             ],
             [
              -212845.7382,
              416199.7883
             ],
             [
              -212915.6841,
              414924.754
             ],
             [
              -213062.7678,
              414717.9734
             ],
             [
              -213337.5671,
              414655.4425
             ],
             [
              -213264.2849,
              414457.4422
             ],
             [
              -212969.6499,
              414098.3976
             ],
             [
              -213025.2972,
              412921.6576
             ],
             [
              -213521.4173,
              412686.0695
             ],
             [
              -213736.8866,
              412774.0746
             ],
             [
              -213888.3808,
              412670.3604
             ],
             [
              -214112.1663,
              412911.6586
             ],
             [
              -214257.3089,
              412910.5579
             ],
             [
              -214292.0481,
              412172.0915
             ],
             [
              -214366.1448,
              412214.2894
             ],
             [
              -214766.0274,
              412633.9347
             ],
             [
              -215019.2341,
              413108.1962
             ],
             [
              -215212.5281,
              413186.0642
             ],
             [
              -215464.8703,
              413194.8446
             ],
             [
              -215462.5865,
              413213.2183
             ],
             [
              -215425.2273,
              413764.8388
             ],
             [
              -215427.5445,
              414008.2733
             ],
             [
              -215390.3188,
              414671.9768
             ],
             [
              -215386.5323,
              414723.6938
             ],
             [
              -215025.4899,
              414698.9598
             ],
             [
              -214864.5918,
              414176.8313
             ],
             [
              -214179.7769,
              414085.4987
             ],
             [
              -214176.8155,
              414135.8102
             ],
             [
              -213881.6117,
              414214.1784
             ],
             [
              -213279.598,
              414731.2907
             ],
             [
              -213162.7586,
              414984.0952
             ],
             [
              -213288.424,
              414979.2895
             ],
             [
              -213447.203,
              415316.2192
             ],
             [
              -213627.1383,
              415560.3461
             ],
             [
              -213812.4504,
              415561.0072
             ],
             [
              -213804.0959,
              415766.5574
             ],
             [
              -214008.4135,
              415788.3822
             ],
             [
              -214038.5858,
              415966.5374
             ],
             [
              -214213.8714,
              415982.1712
             ],
             [
              -214213.5275,
              416191.9295
             ],
             [
              -214321.2229,
              415989.9075
             ],
             [
              -215117.8644,
              416037.7895
             ],
             [
              -215312.5944,
              415990.8579
             ],
             [
              -215285.5473,
              416722.7215
             ]
            ]
           ]
          ],
          "type": "MultiPolygon"
         },
         "properties": {
          "GEOID": "36029017501",
          "attractions": 5913.3373,
          "productions": 4278.201
         },
         "type": "Feature"
        },
        {
         "geometry": {
          "coordinates": [
           [
            [
             [
              -215157.6641,
              419107.5947
             ],
             [
              -215099.9299,
              420184.6624
             ],
             [
              -214021.2153,
              420127.5173
             ],
             [
              -214014.4342,
              420280.5683
             ],
             [
              -213417.8975,
              420250.6828
             ],
             [
              -212796.0708,
              420219.1941
             ],
             [
              -212149.631,
              420188.9294
             ],
             [
              -211907.9904,
              420177.5664
             ],
             [
              -210947.7305,
              420096.5436
             ],
             [
              -210850.5915,
              420114.0018
             ],
             [
              -210390.1594,
              420079.7488
             ],
             [
              -209709.1251,
              420033.6591
             ],
             [
              -209244.5208,
              420002.0516
             ],
             [
              -208335.6524,
              419963.0383
             ],
             [
              -207877.3922,
              419918.7052
             ],
             [
              -206902.3247,
              419879.1448
             ],
             [
              -206637.2298,
              419869.1006
             ],
             [
              -205475.395,
              419825.0601
             ],
             [
              -205437.1425,
              419835.2453
             ],
             [
              -205296.4656,
              419939.3309
             ],
             [
              -201904.5703,
              419761.1816
             ],
             [
              -201906.9949,
              419713.2978
             ],
             [
              -201970.6999,
              418477.8197
             ],
             [
              -201644.5,
              418455.1877
             ],
             [
              -201846.0093,
              412664.8855
             ],
             [
              -201911.3065,
              411778.6851
             ],
             [
              -201822.3597,
              411774.6385
             ],
             [
              -201763.418,
              411663.0651
             ],
             [
              -201398.9506,
              411604.6883
             ],
             [
              -201241.5865,
              411487.0435
             ],
             [
              -201280.9476,
              411257.5781
             ],
             [
              -201541.2733,
              411168.6807
             ],
             [
              -201839.2503,
              411137.941
             ],
             [
              -202125.1701,
              411040.666
             ],
             [
              -202318.2071,
              411111.7943
             ],
             [
              -202604.8183,
              411330.3445
             ],
             [
              -202626.4534,
              411483.032
             ],
             [
              -202992.8295,
              411722.0118
             ],
             [
              -203218.9965,
              411931.4041
             ],
             [
              -203424.0714,
              411941.8041
             ],
             [
              -203621.4335,
              411886.4356
             ],
             [
              -203881.0641,
              411723.963
             ],
             [
              -204018.8434,
              411563.9948
             ],
             [
              -204171.6904,
              411516.6261
             ],
             [
              -204478.1728,
              411573.5354
             ],
             [
              -204760.2819,
              411286.1452
             ],
             [
              -205521.6985,
              410719.8883
             ],
             [
              -205851.4553,
              410870.9404
             ],
             [
              -205926.6343,
              410828.3301
             ],
             [
              -206011.7283,
              410468.8793
             ],
             [
              -206167.9534,
              410525.7603
             ],
             [
              -206375.3801,
              410563.7644
             ],
             [
              -206674.7034,
              410285.7844
             ],
             [
              -206767.0246,
              410000.3369
             ],
             [
              -206907.4181,
              409908.9424
             ],
             [
              -207087.123,
              409905.4461
             ],
             [
              -207352.8219,
              410155.767
             ],
             [
              -207599.5842,
              410166.9728
             ],
             [
              -207804.0545,
              409983.0853
             ],
             [
              -207948.4378,
              409952.5123
             ],
             [
              -208224.561,
              410054.0272
             ],
             [
              -208387.9668,
              410037.0281
             ],
             [
              -208589.3435,
              409913.8226
             ],
             [
              -209055.8453,
              409891.1586
             ],
             [
              -209253.7747,
              409971.3111
             ],
             [
              -209376.8387,
              409944.7923
             ],
             [
              -209506.2627,
              409724.5531
             ],
             [
              -209683.4386,
              409687.2393
             ],
             [
              -209987.9443,
              409895.7814
             ],
             [
              -210173.0995,
              409956.3639
             ],
             [
              -210314.9009,
              409838.8155
             ],
             [
              -210458.4427,
              409805.7984
             ],
             [
              -210627.2865,
              409596.3028
             ],
             [
              -210783.5022,
              409629.4487
             ],
             [
              -210946.7544,
              410038.2616
             ],
             [
              -211066.23,
              410054.1401
             ],
             [
              -211143.1289,
              410015.9034
             ],
             [
              -211378.9058,
              409744.3891
             ],
             [
              -211508.5396,
              409734.7338
             ],
             [
              -211683.3098,
              409931.8396
             ],
             [
              -211796.4847,
              410267.8995
             ],
             [
              -211861.2248,
              410746.8247
             ],
             [
              -212002.0569,
              410873.8927
             ],
             [
              -212434.6966,
              410573.9836
             ],
             [
              -212558.035,
              410602.6781
             ],
             [
              -212936.9727,
              410788.2757
             ],
             [
              -213044.4903,
              410721.464
             ],
             [
              -213082.9337,
              410571.0687
             ],
             [
              -213225.1913,
              410387.0915
             ],
             [
              -213512.5253,
              410220.2605
             ],
             [
              -213684.9197,
              410230.8118
             ],
             [
              -213802.3559,
              410442.2553
             ],
             [
              -213713.2911,
              410884.1108
             ],
             [
              -213482.1475,
              410981.5613
             ],
             [
              -213466.0002,
              411405.052
             ],
             [
              -214023.1588,
              412040.5056
             ],
             [
              -214292.0481,
              412172.0915
             ],
             [
              -214257.3089,
              412910.5579
             ],
             [
              -214112.1663,
              412911.6586
             ],
             [
              -213888.3808,
              412670.3604
             ],
             [
              -213736.8866,
              412774.0746
             ],
             [
              -213521.4173,
              412686.0695
             ],
             [
              -213025.2972,
              412921.6576
             ],
             [
              -212969.6499,
              414098.3976
             ],
             [
              -213264.2849,
              414457.4422
             ],
             [
              -213337.5671,
              414655.4425
             ],
             [
              -213062.7678,
              414717.9734
             ],
             [
              -212915.6841,
              414924.754
             ],
             [
              -212845.7382,
              416199.7883
             ],
             [
              -214050.0539,
              416279.9629
             ],
             [
              -214067.1207,
              416694.2806
             ],
             [
              -215285.5473,
              416722.7215
             ],
             [
              -215157.6641,
              419107.5947
             ]
            ]
           ]
          ],
          "type": "MultiPolygon"
         },
         "properties": {
          "GEOID": "36029017502",
          "attractions": 9214.8368,
          "productions": 6447.5106
         },
         "type": "Feature"
        },
        {
         "geometry": {
          "coordinates": [
           [
            [
             [
              -207344.0556,
              455526.5007
             ],
             [
              -206765.7983,
              455710.9067
             ],
             [
              -206874.0266,
              455858.565
             ],
             [
              -206714.7597,
              455833.5849
             ],
             [
              -206486.5455,
              455696.7486
             ],
             [
              -206087.4078,
              455640.9629
             ],
             [
              -205821.0795,
              455723.8636
             ],
             [
              -205568.5823,
              455972.0279
             ],
             [
              -205345.9776,
              456335.0395
             ],
             [
              -205220.4605,
              456556.2503
             ],
             [
              -205051.9111,
              456425.7774
             ],
             [
              -204851.8039,
              456579.3072
             ],
             [
              -204739.1925,
              456641.4449
             ],
             [
              -204488.2265,
              456542.1561
             ],
             [
              -204112.7748,
              456296.5438
             ],
             [
              -204280.6329,
              456137.209
             ],
             [
              -203957.8904,
              455973.5302
             ],
             [
              -204073.1067,
              455665.2133
             ],
             [
              -204102.5919,
              455199.5307
             ],
             [
              -204112.8262,
              455034.2983
             ],
             [
              -204126.4907,
              454792.9354
             ],
             [
              -204139.4115,
              454572.3655
             ],
             [
              -203436.3908,
              454528.3861
             ],
             [
              -203439.218,
              454478.1804
             ],
             [
              -203469.8234,
              453984.9319
             ],
             [
              -203472.2945,
              453940.0549
             ],
             [
              -203488.1591,
              453669.7323
             ],
             [
              -203504.6735,
              453401.114
             ],
             [
              -203525.0138,
              453093.147
             ],
             [
              -203531.1665,
              453010.139
             ],
             [
              -203534.7222,
              452948.9426
             ],
             [
              -203561.7773,
              452519.8992
             ],
             [
              -203827.1735,
              452533.1002
             ],
             [
              -203878.8482,
              452537.5408
             ],
             [
              -204289.2714,
              452544.8547
             ],
             [
              -204410.6359,
              452482.5974
             ],
             [
              -204567.5144,
              453126.4294
             ],
             [
              -204644.6484,
              453141.1007
             ],
             [
              -204887.0065,
              453155.4966
             ],
             [
              -205215.7334,
              453199.4263
             ],
             [
              -205899.0894,
              453238.21
             ],
             [
              -205965.3837,
              453242.0867
             ],
             [
              -206661.5536,
              453280.4957
             ],
             [
              -206626.2735,
              453383.7179
             ],
             [
              -206638.002,
              453565.5271
             ],
             [
              -206494.8984,
              453588.2348
             ],
             [
              -206515.8462,
              453911.6056
             ],
             [
              -206378.0474,
              454278.2136
             ],
             [
              -206816.2797,
              455526.3713
             ],
             [
              -207344.0556,
              455526.5007
             ]
            ]
           ]
          ],
          "type": "MultiPolygon"
         },
         "properties": {
          "GEOID": "36029000110",
          "attractions": 8804.8439,
          "productions": 7427.031
         },
         "type": "Feature"
        },
        {
         "geometry": {
          "coordinates": [
           [
            [
             [
              -209712.6006,
              467576.2342
             ],
             [
              -209558.8676,
              467714.4411
             ],
             [
              -208863.2138,
              468344.2817
             ],
             [
              -208709.1261,
              468172.9898
             ],
             [
              -208385.827,
              467740.6118
             ],
             [
              -208459.4255,
              467408.5675
             ],
             [
              -208779.25,
              467659.2792
             ],
             [
              -209277.6643,
              467403.4379
             ],
             [
              -209352.3987,
              467365.5811
             ],
             [
              -209608.2485,
              467235.4055
             ],
             [
              -209715.865,
              467573.2862
             ],
             [
              -209712.6006,
              467576.2342
             ]
            ]
           ]
          ],
          "type": "MultiPolygon"
         },
         "properties": {
          "GEOID": "36029005801",
          "attractions": 3548.6223,
          "productions": 30433.7422
         },
         "type": "Feature"
        }
       ],
       "type": "FeatureCollection"
      },
      "text/html": [
       "<table>\n",
       "<caption>A sf: 6 × 4</caption>\n",
       "<thead>\n",
       "\t<tr><th></th><th scope=col>GEOID</th><th scope=col>productions</th><th scope=col>attractions</th><th scope=col>geometry</th></tr>\n",
       "\t<tr><th></th><th scope=col>&lt;chr&gt;</th><th scope=col>&lt;dbl&gt;</th><th scope=col>&lt;dbl&gt;</th><th scope=col>&lt;MULTIPOLYGON [m]&gt;</th></tr>\n",
       "</thead>\n",
       "<tbody>\n",
       "\t<tr><th scope=row>1</th><td>36029017300</td><td>25961.364</td><td>21936.029</td><td>MULTIPOLYGON (((-197779.6 4...</td></tr>\n",
       "\t<tr><th scope=row>2</th><td>36029017400</td><td>12035.709</td><td> 8932.914</td><td>MULTIPOLYGON (((-207485.7 4...</td></tr>\n",
       "\t<tr><th scope=row>3</th><td>36029017501</td><td> 4278.201</td><td> 5913.337</td><td>MULTIPOLYGON (((-215285.5 4...</td></tr>\n",
       "\t<tr><th scope=row>4</th><td>36029017502</td><td> 6447.511</td><td> 9214.837</td><td>MULTIPOLYGON (((-215157.7 4...</td></tr>\n",
       "\t<tr><th scope=row>5</th><td>36029000110</td><td> 7427.031</td><td> 8804.844</td><td>MULTIPOLYGON (((-207344.1 4...</td></tr>\n",
       "\t<tr><th scope=row>6</th><td>36029005801</td><td>30433.742</td><td> 3548.622</td><td>MULTIPOLYGON (((-209712.6 4...</td></tr>\n",
       "</tbody>\n",
       "</table>\n"
      ],
      "text/latex": [
       "A sf: 6 × 4\n",
       "\\begin{tabular}{r|llll}\n",
       "  & GEOID & productions & attractions & geometry\\\\\n",
       "  & <chr> & <dbl> & <dbl> & <MULTIPOLYGON {[}m{]}>\\\\\n",
       "\\hline\n",
       "\t1 & 36029017300 & 25961.364 & 21936.029 & MULTIPOLYGON (((-197779.6 4...\\\\\n",
       "\t2 & 36029017400 & 12035.709 &  8932.914 & MULTIPOLYGON (((-207485.7 4...\\\\\n",
       "\t3 & 36029017501 &  4278.201 &  5913.337 & MULTIPOLYGON (((-215285.5 4...\\\\\n",
       "\t4 & 36029017502 &  6447.511 &  9214.837 & MULTIPOLYGON (((-215157.7 4...\\\\\n",
       "\t5 & 36029000110 &  7427.031 &  8804.844 & MULTIPOLYGON (((-207344.1 4...\\\\\n",
       "\t6 & 36029005801 & 30433.742 &  3548.622 & MULTIPOLYGON (((-209712.6 4...\\\\\n",
       "\\end{tabular}\n"
      ],
      "text/markdown": [
       "\n",
       "A sf: 6 × 4\n",
       "\n",
       "| <!--/--> | GEOID &lt;chr&gt; | productions &lt;dbl&gt; | attractions &lt;dbl&gt; | geometry &lt;MULTIPOLYGON [m]&gt; |\n",
       "|---|---|---|---|---|\n",
       "| 1 | 36029017300 | 25961.364 | 21936.029 | MULTIPOLYGON (((-197779.6 4... |\n",
       "| 2 | 36029017400 | 12035.709 |  8932.914 | MULTIPOLYGON (((-207485.7 4... |\n",
       "| 3 | 36029017501 |  4278.201 |  5913.337 | MULTIPOLYGON (((-215285.5 4... |\n",
       "| 4 | 36029017502 |  6447.511 |  9214.837 | MULTIPOLYGON (((-215157.7 4... |\n",
       "| 5 | 36029000110 |  7427.031 |  8804.844 | MULTIPOLYGON (((-207344.1 4... |\n",
       "| 6 | 36029005801 | 30433.742 |  3548.622 | MULTIPOLYGON (((-209712.6 4... |\n",
       "\n"
      ],
      "text/plain": [
       "  GEOID       productions attractions geometry                      \n",
       "1 36029017300 25961.364   21936.029   MULTIPOLYGON (((-197779.6 4...\n",
       "2 36029017400 12035.709    8932.914   MULTIPOLYGON (((-207485.7 4...\n",
       "3 36029017501  4278.201    5913.337   MULTIPOLYGON (((-215285.5 4...\n",
       "4 36029017502  6447.511    9214.837   MULTIPOLYGON (((-215157.7 4...\n",
       "5 36029000110  7427.031    8804.844   MULTIPOLYGON (((-207344.1 4...\n",
       "6 36029005801 30433.742    3548.622   MULTIPOLYGON (((-209712.6 4..."
      ]
     },
     "metadata": {},
     "output_type": "display_data"
    }
   ],
   "source": [
    "trip_gen <- tracts %>%\n",
    "  select(GEOID, productions, bal_attr) %>%\n",
    "  rename(attractions = bal_attr) %>%\n",
    "  mutate(productions = replace_na(productions, 0)) %>%\n",
    "  mutate(attractions = replace_na(attractions, 0))\n",
    "\n",
    "head(trip_gen)"
   ]
  },
  {
   "cell_type": "markdown",
   "metadata": {},
   "source": [
    "### Step 4: Visualize final result\n",
    "It would be nice to have a map that shows where there are a lot of prodcutions and where there are a lot of attractions. This is another good application of a dot density map.\n",
    "\n",
    "We'll start by creating two set of points, one for productions and one for attractions, where each point represents 10,000 trip ends, and they are distributed randomly with their respective zones.\n",
    "\n",
    "Then we'll put each of those two sets of points into its own dataframe with a column indicating whether the point is a production or an attraction, and finally, we'll combine the two sets into a single dataframe. \n",
    "\n",
    "Again, it takes a while to create all these points, so be patient."
   ]
  },
  {
   "cell_type": "code",
   "execution_count": 23,
   "metadata": {},
   "outputs": [],
   "source": [
    "prod_pts <- st_sample(trip_gen, size = ceiling(trip_gen$productions / 10000))\n",
    "attr_pts <- st_sample(trip_gen, size = ceiling(trip_gen$attractions / 10000))\n",
    "\n",
    "prods <- st_sf(data.frame(P_or_A=rep(\"Production\", length(prod_pts)), geom=prod_pts))\n",
    "attrs <- st_sf(data.frame(P_or_A=rep(\"Attraction\", length(attr_pts)), geom=attr_pts))\n",
    "\n",
    "trip_gen_pts <- rbind(prods, attrs)"
   ]
  },
  {
   "cell_type": "markdown",
   "metadata": {},
   "source": [
    "Now plot all those points on a map! To avoid overplotting, I'm making the points pretty small (size = 0.5) and pretty transparent (alpha = 0.3)."
   ]
  },
  {
   "cell_type": "code",
   "execution_count": 24,
   "metadata": {},
   "outputs": [
    {
     "data": {
      "image/png": "[encoded data removed]",
      "text/plain": [
       "plot without title"
      ]
     },
     "metadata": {
      "image/png": {
       "height": 420,
       "width": 420
      },
      "text/plain": {
       "height": 420,
       "width": 420
      }
     },
     "output_type": "display_data"
    }
   ],
   "source": [
    "ggplot(trip_gen) + \n",
    "  geom_sf(color = \"white\") +\n",
    "  geom_sf(data = trip_gen_pts, \n",
    "          aes(color = P_or_A), \n",
    "          alpha = 0.3,\n",
    "          size = 0.5) +\n",
    "  scale_color_hue(\"Trip end type\", labels = c(\"10,000 Attractions\",\"10,000 Productions\")) + \n",
    "  theme(axis.text=element_blank(),\n",
    "        axis.ticks=element_blank(),\n",
    "        panel.background = element_blank(),\n",
    "       legend.key = element_blank())  +\n",
    "  guides(color = guide_legend(override.aes = list(size=5, alpha = 0.6)))"
   ]
  }
 ],
 "metadata": {
  "kernelspec": {
   "display_name": "R",
   "language": "R",
   "name": "ir"
  },
  "language_info": {
   "codemirror_mode": "r",
   "file_extension": ".r",
   "mimetype": "text/x-r-source",
   "name": "R",
   "pygments_lexer": "r",
   "version": "4.0.0"
  }
 },
 "nbformat": 4,
 "nbformat_minor": 4
}
